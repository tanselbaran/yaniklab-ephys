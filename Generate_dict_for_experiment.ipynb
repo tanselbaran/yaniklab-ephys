{
 "cells": [
  {
   "cell_type": "markdown",
   "metadata": {},
   "source": [
    "# Welcome \n",
    "\n",
    "Welcome to the script for generating parameter dictionaries for the recording sessions in your experiment folder. Please follow the upcoming steps in this notebook for further instructions. \n",
    "\n",
    "## 1) Import the packages required for running the script\n",
    "\n",
    "Please run the block of code to import the Python packages that are required for running the rest of this script. "
   ]
  },
  {
   "cell_type": "code",
   "execution_count": null,
   "metadata": {
    "collapsed": true
   },
   "outputs": [],
   "source": [
    "#Import required packages\n",
    "import pickle\n",
    "import os\n",
    "from utils.load_probe_info import *\n",
    "import ipywidgets\n",
    "from ipywidgets import Layout, HBox, VBox\n",
    "from IPython.display import display"
   ]
  },
  {
   "cell_type": "markdown",
   "metadata": {},
   "source": [
    "## 2) Enter general parameters for the experiment."
   ]
  },
  {
   "cell_type": "code",
   "execution_count": null,
   "metadata": {
    "collapsed": false
   },
   "outputs": [],
   "source": [
    "#Creating widgets for the user input on the general parameters for the experiment\n",
    "\n",
    "##Main path for the data \n",
    "\n",
    "mp_html = ipywidgets.HTML(value = \"<p><b>Path to the data of the experiment:</b><br />Enter the path to the folder (with no '/' at the end) that is hierarchically right above the folders of the recording sessions</p>\")\n",
    "mp = ipywidgets.Text(value = \"\", placeholder = \"Enter path for data\", disabled = False)\n",
    "display(VBox([mp_html, mp]))\n",
    "\n",
    "##Sampling rate\n",
    "sr = ipywidgets.IntText(value = 30000, disabled = False)\n",
    "display(VBox([ipywidgets.HTML(value = \"<b> Sampling rate (Hz): </b>\"),sr]))\n",
    "\n",
    "##File format\n",
    "ff_html = ipywidgets.HTML(value = \"<p><b>File format:</b><br />(dat for .dat, cont for .continuous, rhd for .rhd)</p>\")\n",
    "ff = ipywidgets.Text(value = 'dat', placeholder = 'Enter file format',\n",
    "             disabled = False)\n",
    "display(VBox([ff_html,ff]))\n",
    "\n",
    "##Number of probes\n",
    "\n",
    "np_html = ipywidgets.HTML(value = \"<p><b>Number of probes:</b><br /><b>WARNING:</b>Pipeline currently supports <b>ONLY</b> the multiple probes being <b>IDENTICAL</b> in type and mapping!!! Pipeline has to be updated before using multiple probes of different types!</p>\")\n",
    "np = ipywidgets.IntText(value = 1, disabled = False)\n",
    "display(VBox([np_html, np]))\n",
    "\n",
    "##Probe info\n",
    "pi_html = ipywidgets.HTML(value = \"<b>Type of the probe used in the experiment</b>\")\n",
    "pi = ipywidgets.Dropdown(options=['a4x8_5mm_100_200_177', 'a3x8_5mm_100_200_177', 'a4x4_tet_150_200_1212', 'a2x16_10mm_100_500_177', 'custom'], \n",
    "                   value = 'a2x16_10mm_100_500_177',  disabled = False)\n",
    "display(VBox([pi_html, pi]))\n",
    "\n",
    "##Prb file name (only for custom)\n",
    "prb_html = ipywidgets.HTML(value = \"<p><b>Name of the .prb file:</b><br />Enter in the xxxxxxx.prb format. (only required for custom probe type.</p>\")\n",
    "prb = ipywidgets.Text(value = '32_channel.prb',\n",
    "             disabled = False)\n",
    "display(VBox([prb_html,prb]))"
   ]
  },
  {
   "cell_type": "markdown",
   "metadata": {
    "collapsed": true
   },
   "source": [
    "## 3) Enter parameters related to the LFP analysis"
   ]
  },
  {
   "cell_type": "code",
   "execution_count": null,
   "metadata": {
    "collapsed": false
   },
   "outputs": [],
   "source": [
    "#Creating widgets for the user input on the parameters related to the evoked LFP analysis\n",
    "\n",
    "##doLFPAnalysis\n",
    "\n",
    "dlfp = ipywidgets.Checkbox(value = False, disabled = False)\n",
    "display(HBox([ipywidgets.HTML(value = \"<b>Select if LFP analysis will be done or not</b>\"), dlfp]))\n",
    "\n",
    "##evokedPre\n",
    "\n",
    "epre = ipywidgets.FloatText(value = 0.025, disabled = False)\n",
    "display(VBox([ipywidgets.HTML(value = \"<b>Enter time taken prior to the stimulus trigger (in s)</b>\"), epre]))\n",
    "\n",
    "##evokedPost\n",
    "\n",
    "epost = ipywidgets.FloatText(value = 0.100, disabled = False)\n",
    "display(VBox([ipywidgets.HTML(value = \"<b>Enter time taken post the stimulus trigger (in s)</b>\"), epost]))\n",
    "\n",
    "#low_pass_freq\n",
    "\n",
    "lp = ipywidgets.FloatText(value = 300, disabled = False)\n",
    "display(VBox([ipywidgets.HTML(value = \"<b> Enter the cutoff frequency of the low pass filter to extract LFP from data (in Hz)\"), lp]))\n",
    "\n",
    "#notch_filt_freq\n",
    "\n",
    "nf = ipywidgets.FloatText(value = 50, disabled = False)\n",
    "display(VBox([ipywidgets.HTML(value = \"<b> Enter the frequency of the notch filter (in Hz). Enter 0 if you don't want a notch filter\"), nf]))\n",
    "\n",
    "##cutBeginning\n",
    "\n",
    "cb = ipywidgets.FloatText(value = 5, disabled = False)\n",
    "display(VBox([ipywidgets.HTML(value = \"<b>Enter the time to be cut from the beginning of the recording (in s)</b>\"), cb]))\n",
    "\n",
    "##cutEnd\n",
    "\n",
    "ce = ipywidgets.FloatText(value = 5, disabled = False)\n",
    "display(VBox([ipywidgets.HTML(value = \"<b>Enter the time to be cut from the end of the recording (in s )\"), ce]))\n",
    "\n",
    "##stimPath\n",
    "\n",
    "sp = ipywidgets.Text(value = 'board-DIN-01.dat', disabled = False)\n",
    "display(VBox([ipywidgets.HTML(value = \"<b>Enter the name of the file where the stimulus trigger is kept</b>\"), sp]))"
   ]
  },
  {
   "cell_type": "markdown",
   "metadata": {},
   "source": [
    "# 4) Enter parameters related to spike sorting\n",
    "\n",
    "If you are intending to do spike-sorting on this data, please set the spike-sorting parameters. Otherwise, set the boolean parameter \"do_spike_sorting\" to False below. "
   ]
  },
  {
   "cell_type": "code",
   "execution_count": null,
   "metadata": {
    "collapsed": false
   },
   "outputs": [],
   "source": [
    "#Creating widgets for the user input on the parameters related to spike sorting\n",
    "\n",
    "##doSpikeSorting\n",
    "\n",
    "dss = ipywidgets.Checkbox(value = False, disabled = False)\n",
    "display(HBox([ipywidgets.HTML(value = \"<b>Select if spike sorting will be done or not</b>\"), dss]))\n",
    "\n",
    "##samplesBefore\n",
    "\n",
    "sb = ipywidgets.FloatText(value = 0.5, disabled = False)\n",
    "display(VBox([ipywidgets.HTML(value = '<b>Enter the length of waveform to be taken before the threshold crossing (in ms)'), sb]))\n",
    "\n",
    "##samplesAfter\n",
    "\n",
    "sa = ipywidgets.FloatText(value = 1.5, disabled = False)\n",
    "display(VBox([ipywidgets.HTML(value = \"<b>Enter the length of waveform to be taken after the threshold crossing (in ms)\"), sa]))\n",
    "\n",
    "##lowCutoff\n",
    "\n",
    "lc = ipywidgets.FloatText(value = 300., disabled = False)\n",
    "display(VBox([ipywidgets.HTML(value = \"<b>Enter the lower cutoff frequency for the bandpass filter to be applied on the raw data (in Hz)\"), lc]))\n",
    "\n",
    "##highCutoff\n",
    "\n",
    "hc = ipywidgets.FloatText(value = 3000., disabled = False)\n",
    "display(VBox([ipywidgets.HTML(value = \"<b>Enter the higher cutoff frequency for the bandpass filter to be applied on the raw data (in Hz)\"), hc]))"
   ]
  },
  {
   "cell_type": "markdown",
   "metadata": {
    "collapsed": true
   },
   "source": [
    "# 5) Generate the parameters dictionaries\n",
    "\n",
    "Please run the block of the code in order to generate the parameters dictionary for each recording session (paramsDict.p) based on the input that you have provided above. "
   ]
  },
  {
   "cell_type": "code",
   "execution_count": null,
   "metadata": {
    "collapsed": false
   },
   "outputs": [],
   "source": [
    "dirs = os.listdir(mp.value) #Listing all recording sessions in the main path\n",
    "if pi.value == 'custom':\n",
    "    prb_file_dir = mp.value + '/other/' + prb.value\n",
    "    exec(open(prb_file_dir).read())\n",
    "    probe_info = load_custom_probe(channel_groups)\n",
    "else:\n",
    "    probe_info = load_probe_info(pi.value) #Loading probe info from probe selection\n",
    "print(probe_info)\n",
    "\n",
    "for folder in (folder for folder in dirs if ((folder != 'log.txt') and (folder != '.DS_Store') and (folder != 'notes.docx') and (folder != 'other'))):\n",
    "    p = {} #Parameter dictionary (empty)\n",
    "    \n",
    "    #Entering the probe info and electrode mapping into the dictionary\n",
    "    p['shanks'] = probe_info['numShanks']\n",
    "    p['probes'] = np.value\n",
    "    p['probe_type'] = probe_info['type']\n",
    "    p['probe_name'] = probe_info['name']\n",
    "    p['nr_of_electrodes'] = probe_info['numTrodes']\n",
    "    if probe_info['type'] == 'tetrode':\n",
    "        p['nr_of_tetrodes'] = probe_info['numTetrodes']\n",
    "        p['max_nr_of_tetrodes_per_shank'] = probe_info['numTetrodesPerShank']\n",
    "        p['nr_of_groups'] = p['nr_of_tetrodes']\n",
    "        p['nr_of_electrodes_per_group'] = 4\n",
    "        p['id'] = probe_info['id']\n",
    "    elif probe_info['type'] == 'linear':\n",
    "        p['nr_of_electrodes_per_shank'] = probe_info['numTrodesPerShank']\n",
    "        p['nr_of_groups'] = p['shanks']\n",
    "        p['nr_of_electrodes_per_group'] = p['nr_of_electrodes_per_shank']\n",
    "        p['bottom_ycoord'] = probe_info['bottom_ycoord']\n",
    "        p['top_ycoord'] = probe_info['top_ycoord']\n",
    "    elif probe_info['type'] == 'custom':\n",
    "        p['prb_file_dir'] = prb_file_dir\n",
    "        p['nr_of_groups'] = probe_info['nr_of_groups']\n",
    "        p['nr_of_electrodes_per_group'] = probe_info['nr_of_electrodes_per_group']\n",
    "    p['id'] = probe_info['id']\n",
    "    \n",
    "    #Entering the path and file format info into the dictionary\n",
    "    p['mainpath'] = mp.value\n",
    "    p['path'] = mp.value + '/' + folder\n",
    "    p['fileformat'] = ff.value\n",
    "    \n",
    "    #Getting the list of 'rhd' files in the folder in case of 'rhd' format\n",
    "    if p['fileformat'] == 'rhd': \n",
    "        p['rhd_file'] = os.listdir(p['path'])\n",
    "        try: #Removing the non-rhd files from the list, if the session was already analyzed\n",
    "            p['rhd_file'].remove('paramsDict.p')\n",
    "            p['rhd_file'].remove('probe.dat')\n",
    "            p['rhd_file'].remove('probe_evoked.pickle')\n",
    "            p['rhd_file'].remove('probe_evoked.png')\n",
    "        except ValueError:\n",
    "            pass\n",
    "    \n",
    "    #Entering the general parameters into the dictionary\n",
    "    p['sample_rate'] = sr.value\n",
    "    \n",
    "    #Entering the LFP analysis parameters into the dictionary\n",
    "    p['LFP_analysis'] = dlfp.value #This has to be specified for running LFP analysis on the EPhys pipeline\n",
    "    if dlfp.value:\n",
    "        p['evoked_pre'] = epre.value\n",
    "        p['evoked_post'] = epost.value\n",
    "        p['low_pass_freq'] = lp.value\n",
    "        p['notch_filt_freq'] = nf.value\n",
    "        p['cut_beginning'] = cb.value\n",
    "        p['cut_end'] = ce.value\n",
    "        p['stim_file'] = sp.value\n",
    "    \n",
    "    #Entering the spike-sorting related parameters into the dictionary\n",
    "    p['spikeSorting'] = dss.value\n",
    "    if dss.value:\n",
    "        #Converting the waveform time window parameters from miliseconds to sample counts before saving\n",
    "        p['samples_before'] = int(sb.value * p['sample_rate'] / 1000) \n",
    "        p['samples_after'] = int(sa.value * p['sample_rate'] / 1000)\n",
    "        p['low_cutoff'] = lc.value\n",
    "        p['high_cutoff'] = hc.value\n",
    "    \n",
    "    #Saving the dictionary in the pickle file named paramsDict.p \n",
    "    pickle.dump(p, open((mp.value + '/' + folder + '/paramsDict.p'), 'wb'))\n",
    "    "
   ]
  },
  {
   "cell_type": "markdown",
   "metadata": {},
   "source": [
    "# Done!\n",
    "\n",
    "You might want to check the folders for the recording sessions in your experiment folder to see whether the paramsDict.p files are created in the right place.\n",
    "\n",
    "Notebook written by Baran Yasar in 04/2017. Please contact him in person or e-mail at yasar@biomed.ee.ethz.ch in case of any questions. "
   ]
  },
  {
   "cell_type": "code",
   "execution_count": null,
   "metadata": {
    "collapsed": true
   },
   "outputs": [],
   "source": []
  }
 ],
 "metadata": {
  "kernelspec": {
   "display_name": "Python 3",
   "language": "python",
   "name": "python3"
  },
  "language_info": {
   "codemirror_mode": {
    "name": "ipython",
    "version": 3
   },
   "file_extension": ".py",
   "mimetype": "text/x-python",
   "name": "python",
   "nbconvert_exporter": "python",
   "pygments_lexer": "ipython3",
   "version": "3.6.0"
  },
  "widgets": {
   "state": {
    "1417bfb39df64cd88f56244ed1a2ce68": {
     "views": [
      {
       "cell_index": 5
      }
     ]
    },
    "2016448bc3c045509135330b6ee6de1b": {
     "views": [
      {
       "cell_index": 3
      }
     ]
    },
    "2db83e46a1154052bc68f74cd9c9a951": {
     "views": [
      {
       "cell_index": 3
      }
     ]
    },
    "3083178c880e4cb59c87c8d759c68d2e": {
     "views": [
      {
       "cell_index": 5
      }
     ]
    },
    "31a97b12e2334d589f19fc6650c2df48": {
     "views": [
      {
       "cell_index": 3
      }
     ]
    },
    "3487e6ddae9d4d73ba08b2b1e9e33068": {
     "views": [
      {
       "cell_index": 5
      }
     ]
    },
    "48724af7741f463b8bf18e7411f8063b": {
     "views": [
      {
       "cell_index": 5
      }
     ]
    },
    "6e57b26f80fb4dc88b4361bdd3023152": {
     "views": [
      {
       "cell_index": 7
      }
     ]
    },
    "79ba7984f6524d81a9f39f048fa2bbac": {
     "views": [
      {
       "cell_index": 5
      }
     ]
    },
    "832fba406c604bc8999961633f70a238": {
     "views": [
      {
       "cell_index": 7
      }
     ]
    },
    "89997f4b26d9460bbd0cae0a293bfac2": {
     "views": [
      {
       "cell_index": 7
      }
     ]
    },
    "8a667b24238b4e2e81ab447624a36273": {
     "views": [
      {
       "cell_index": 5
      }
     ]
    },
    "8f918ec1df0c407da4bee046556e3dfc": {
     "views": [
      {
       "cell_index": 5
      }
     ]
    },
    "974de105baac476ea048e17b6a4d08f9": {
     "views": [
      {
       "cell_index": 5
      }
     ]
    },
    "9c712e7664b4476c934e305a9f0df5da": {
     "views": [
      {
       "cell_index": 7
      }
     ]
    },
    "a3462058cf5e46ecb16c0399e36bbaa9": {
     "views": [
      {
       "cell_index": 3
      }
     ]
    },
    "dcdd3127b48642e780456d0066633ca0": {
     "views": [
      {
       "cell_index": 3
      }
     ]
    },
    "e4b0d9933a154df19370581f45f5ca03": {
     "views": [
      {
       "cell_index": 7
      }
     ]
    },
    "f15cfed0e8754121a5d1c9fb31959a8e": {
     "views": [
      {
       "cell_index": 3
      }
     ]
    }
   },
   "version": "1.2.0"
  }
 },
 "nbformat": 4,
 "nbformat_minor": 2
}

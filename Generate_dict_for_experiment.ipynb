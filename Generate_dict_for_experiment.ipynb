{
 "cells": [
  {
   "cell_type": "markdown",
   "metadata": {},
   "source": [
    "# Welcome \n",
    "\n",
    "Welcome to the script for generating parameter dictionaries for the recording sessions in your experiment folder. Please follow the upcoming steps in this notebook for further instructions. \n",
    "\n",
    "## 1) Import the packages required for running the script\n",
    "\n",
    "Please run the block of code to import the Python packages that are required for running the rest of this script. "
   ]
  },
  {
   "cell_type": "code",
   "execution_count": 1,
   "metadata": {
    "collapsed": true
   },
   "outputs": [],
   "source": [
    "#Import required packages\n",
    "import pickle\n",
    "import os\n",
    "from utils.load_probe_info import load_probe_info\n",
    "import ipywidgets\n",
    "from ipywidgets import Layout, HBox, VBox\n",
    "from IPython.display import display"
   ]
  },
  {
   "cell_type": "markdown",
   "metadata": {},
   "source": [
    "## 2) Enter general parameters for the experiment."
   ]
  },
  {
   "cell_type": "code",
   "execution_count": 2,
   "metadata": {},
   "outputs": [
    {
     "data": {
      "application/vnd.jupyter.widget-view+json": {
       "model_id": "dcf75bef81a64034862dd658ddf199c8",
       "version_major": 2,
       "version_minor": 0
      },
      "text/html": [
       "<p>Failed to display Jupyter Widget of type <code>VBox</code>.</p>\n",
       "<p>\n",
       "  If you're reading this message in the Jupyter Notebook or JupyterLab Notebook, it may mean\n",
       "  that the widgets JavaScript is still loading. If this message persists, it\n",
       "  likely means that the widgets JavaScript library is either not installed or\n",
       "  not enabled. See the <a href=\"https://ipywidgets.readthedocs.io/en/stable/user_install.html\">Jupyter\n",
       "  Widgets Documentation</a> for setup instructions.\n",
       "</p>\n",
       "<p>\n",
       "  If you're reading this message in another frontend (for example, a static\n",
       "  rendering on GitHub or <a href=\"https://nbviewer.jupyter.org/\">NBViewer</a>),\n",
       "  it may mean that your frontend doesn't currently support widgets.\n",
       "</p>\n"
      ],
      "text/plain": [
       "VBox(children=(HTML(value=\"<p><b>Path to the data of the experiment:</b><br />Enter the path to the folder (with no '/' at the end) that is hierarchically right above the folders of the recording sessions</p>\"), Text(value='', placeholder='Enter path for data')))"
      ]
     },
     "metadata": {},
     "output_type": "display_data"
    },
    {
     "data": {
      "application/vnd.jupyter.widget-view+json": {
       "model_id": "0de5a62a214d485683a9a08459e02fbe",
       "version_major": 2,
       "version_minor": 0
      },
      "text/html": [
       "<p>Failed to display Jupyter Widget of type <code>VBox</code>.</p>\n",
       "<p>\n",
       "  If you're reading this message in the Jupyter Notebook or JupyterLab Notebook, it may mean\n",
       "  that the widgets JavaScript is still loading. If this message persists, it\n",
       "  likely means that the widgets JavaScript library is either not installed or\n",
       "  not enabled. See the <a href=\"https://ipywidgets.readthedocs.io/en/stable/user_install.html\">Jupyter\n",
       "  Widgets Documentation</a> for setup instructions.\n",
       "</p>\n",
       "<p>\n",
       "  If you're reading this message in another frontend (for example, a static\n",
       "  rendering on GitHub or <a href=\"https://nbviewer.jupyter.org/\">NBViewer</a>),\n",
       "  it may mean that your frontend doesn't currently support widgets.\n",
       "</p>\n"
      ],
      "text/plain": [
       "VBox(children=(HTML(value='<b> Sampling rate (Hz): </b>'), IntText(value=30000)))"
      ]
     },
     "metadata": {},
     "output_type": "display_data"
    },
    {
     "data": {
      "application/vnd.jupyter.widget-view+json": {
       "model_id": "47642653c08348dfbbe2532c26f4e064",
       "version_major": 2,
       "version_minor": 0
      },
      "text/html": [
       "<p>Failed to display Jupyter Widget of type <code>VBox</code>.</p>\n",
       "<p>\n",
       "  If you're reading this message in the Jupyter Notebook or JupyterLab Notebook, it may mean\n",
       "  that the widgets JavaScript is still loading. If this message persists, it\n",
       "  likely means that the widgets JavaScript library is either not installed or\n",
       "  not enabled. See the <a href=\"https://ipywidgets.readthedocs.io/en/stable/user_install.html\">Jupyter\n",
       "  Widgets Documentation</a> for setup instructions.\n",
       "</p>\n",
       "<p>\n",
       "  If you're reading this message in another frontend (for example, a static\n",
       "  rendering on GitHub or <a href=\"https://nbviewer.jupyter.org/\">NBViewer</a>),\n",
       "  it may mean that your frontend doesn't currently support widgets.\n",
       "</p>\n"
      ],
      "text/plain": [
       "VBox(children=(HTML(value='<p><b>File format:</b><br />(dat for .dat, cont for .continuous, rhd for .rhd)</p>'), Text(value='dat', placeholder='Enter file format')))"
      ]
     },
     "metadata": {},
     "output_type": "display_data"
    },
    {
     "data": {
      "application/vnd.jupyter.widget-view+json": {
       "model_id": "474672a164c74709a8a2b4ee0d3811a1",
       "version_major": 2,
       "version_minor": 0
      },
      "text/html": [
       "<p>Failed to display Jupyter Widget of type <code>VBox</code>.</p>\n",
       "<p>\n",
       "  If you're reading this message in the Jupyter Notebook or JupyterLab Notebook, it may mean\n",
       "  that the widgets JavaScript is still loading. If this message persists, it\n",
       "  likely means that the widgets JavaScript library is either not installed or\n",
       "  not enabled. See the <a href=\"https://ipywidgets.readthedocs.io/en/stable/user_install.html\">Jupyter\n",
       "  Widgets Documentation</a> for setup instructions.\n",
       "</p>\n",
       "<p>\n",
       "  If you're reading this message in another frontend (for example, a static\n",
       "  rendering on GitHub or <a href=\"https://nbviewer.jupyter.org/\">NBViewer</a>),\n",
       "  it may mean that your frontend doesn't currently support widgets.\n",
       "</p>\n"
      ],
      "text/plain": [
       "VBox(children=(HTML(value='<p><b>Number of probes:</b><br /><b>WARNING:</b>Pipeline currently supports <b>ONLY</b> the multiple probes being <b>IDENTICAL</b> in type and mapping!!! Pipeline has to be updated before using multiple probes of different types!</p>'), IntText(value=2)))"
      ]
     },
     "metadata": {},
     "output_type": "display_data"
    },
    {
     "data": {
      "application/vnd.jupyter.widget-view+json": {
       "model_id": "e907ddc4d1404aa0b60150a147dcadad",
       "version_major": 2,
       "version_minor": 0
      },
      "text/html": [
       "<p>Failed to display Jupyter Widget of type <code>VBox</code>.</p>\n",
       "<p>\n",
       "  If you're reading this message in the Jupyter Notebook or JupyterLab Notebook, it may mean\n",
       "  that the widgets JavaScript is still loading. If this message persists, it\n",
       "  likely means that the widgets JavaScript library is either not installed or\n",
       "  not enabled. See the <a href=\"https://ipywidgets.readthedocs.io/en/stable/user_install.html\">Jupyter\n",
       "  Widgets Documentation</a> for setup instructions.\n",
       "</p>\n",
       "<p>\n",
       "  If you're reading this message in another frontend (for example, a static\n",
       "  rendering on GitHub or <a href=\"https://nbviewer.jupyter.org/\">NBViewer</a>),\n",
       "  it may mean that your frontend doesn't currently support widgets.\n",
       "</p>\n"
      ],
      "text/plain": [
       "VBox(children=(HTML(value='<b>Type of the probe used in the experiment</b>'), Dropdown(index=3, options=('a4x8_5mm_100_200_177', 'a3x8_5mm_100_200_177', 'a4x4_tet_150_200_1212', 'a2x16_10mm_100_500_177'), value='a2x16_10mm_100_500_177')))"
      ]
     },
     "metadata": {},
     "output_type": "display_data"
    }
   ],
   "source": [
    "#Creating widgets for the user input on the general parameters for the experiment\n",
    "\n",
    "##Main path for the data \n",
    "\n",
    "mp_html = ipywidgets.HTML(value = \"<p><b>Path to the data of the experiment:</b><br />Enter the path to the folder (with no '/' at the end) that is hierarchically right above the folders of the recording sessions</p>\")\n",
    "mp = ipywidgets.Text(value = \"\", placeholder = \"Enter path for data\", disabled = False)\n",
    "display(VBox([mp_html, mp]))\n",
    "\n",
    "##Sampling rate\n",
    "sr = ipywidgets.IntText(value = 30000, disabled = False)\n",
    "display(VBox([ipywidgets.HTML(value = \"<b> Sampling rate (Hz): </b>\"),sr]))\n",
    "\n",
    "##File format\n",
    "ff_html = ipywidgets.HTML(value = \"<p><b>File format:</b><br />(dat for .dat, cont for .continuous, rhd for .rhd)</p>\")\n",
    "ff = ipywidgets.Text(value = 'dat', placeholder = 'Enter file format',\n",
    "             disabled = False)\n",
    "display(VBox([ff_html,ff]))\n",
    "\n",
    "##Number of probes\n",
    "\n",
    "np_html = ipywidgets.HTML(value = \"<p><b>Number of probes:</b><br /><b>WARNING:</b>Pipeline currently supports <b>ONLY</b> the multiple probes being <b>IDENTICAL</b> in type and mapping!!! Pipeline has to be updated before using multiple probes of different types!</p>\")\n",
    "np = ipywidgets.IntText(value = 2, disabled = False)\n",
    "display(VBox([np_html, np]))\n",
    "\n",
    "##Probe info\n",
    "pi_html = ipywidgets.HTML(value = \"<b>Type of the probe used in the experiment</b>\")\n",
    "pi = ipywidgets.Dropdown(options=['a4x8_5mm_100_200_177', 'a3x8_5mm_100_200_177', 'a4x4_tet_150_200_1212', 'a2x16_10mm_100_500_177'], \n",
    "                   value = 'a2x16_10mm_100_500_177',  disabled = False)\n",
    "display(VBox([pi_html, pi]))\n",
    "\n"
   ]
  },
  {
   "cell_type": "markdown",
   "metadata": {
    "collapsed": true
   },
   "source": [
    "## 3) Enter parameters related to the LFP analysis"
   ]
  },
  {
   "cell_type": "code",
   "execution_count": 3,
   "metadata": {},
   "outputs": [
    {
     "data": {
      "application/vnd.jupyter.widget-view+json": {
       "model_id": "650c6bff5a514e898b0c23a0058db1b4",
       "version_major": 2,
       "version_minor": 0
      },
      "text/html": [
       "<p>Failed to display Jupyter Widget of type <code>HBox</code>.</p>\n",
       "<p>\n",
       "  If you're reading this message in the Jupyter Notebook or JupyterLab Notebook, it may mean\n",
       "  that the widgets JavaScript is still loading. If this message persists, it\n",
       "  likely means that the widgets JavaScript library is either not installed or\n",
       "  not enabled. See the <a href=\"https://ipywidgets.readthedocs.io/en/stable/user_install.html\">Jupyter\n",
       "  Widgets Documentation</a> for setup instructions.\n",
       "</p>\n",
       "<p>\n",
       "  If you're reading this message in another frontend (for example, a static\n",
       "  rendering on GitHub or <a href=\"https://nbviewer.jupyter.org/\">NBViewer</a>),\n",
       "  it may mean that your frontend doesn't currently support widgets.\n",
       "</p>\n"
      ],
      "text/plain": [
       "HBox(children=(HTML(value='<b>Select if LFP analysis will be done or not</b>'), Checkbox(value=False)))"
      ]
     },
     "metadata": {},
     "output_type": "display_data"
    },
    {
     "data": {
      "application/vnd.jupyter.widget-view+json": {
       "model_id": "389b2621296746f6b8287cc6cc9017ad",
       "version_major": 2,
       "version_minor": 0
      },
      "text/html": [
       "<p>Failed to display Jupyter Widget of type <code>VBox</code>.</p>\n",
       "<p>\n",
       "  If you're reading this message in the Jupyter Notebook or JupyterLab Notebook, it may mean\n",
       "  that the widgets JavaScript is still loading. If this message persists, it\n",
       "  likely means that the widgets JavaScript library is either not installed or\n",
       "  not enabled. See the <a href=\"https://ipywidgets.readthedocs.io/en/stable/user_install.html\">Jupyter\n",
       "  Widgets Documentation</a> for setup instructions.\n",
       "</p>\n",
       "<p>\n",
       "  If you're reading this message in another frontend (for example, a static\n",
       "  rendering on GitHub or <a href=\"https://nbviewer.jupyter.org/\">NBViewer</a>),\n",
       "  it may mean that your frontend doesn't currently support widgets.\n",
       "</p>\n"
      ],
      "text/plain": [
       "VBox(children=(HTML(value='<b>Enter time taken prior to the stimulus trigger (in s)</b>'), FloatText(value=0.025)))"
      ]
     },
     "metadata": {},
     "output_type": "display_data"
    },
    {
     "data": {
      "application/vnd.jupyter.widget-view+json": {
       "model_id": "9032159356054609afff5b2485621469",
       "version_major": 2,
       "version_minor": 0
      },
      "text/html": [
       "<p>Failed to display Jupyter Widget of type <code>VBox</code>.</p>\n",
       "<p>\n",
       "  If you're reading this message in the Jupyter Notebook or JupyterLab Notebook, it may mean\n",
       "  that the widgets JavaScript is still loading. If this message persists, it\n",
       "  likely means that the widgets JavaScript library is either not installed or\n",
       "  not enabled. See the <a href=\"https://ipywidgets.readthedocs.io/en/stable/user_install.html\">Jupyter\n",
       "  Widgets Documentation</a> for setup instructions.\n",
       "</p>\n",
       "<p>\n",
       "  If you're reading this message in another frontend (for example, a static\n",
       "  rendering on GitHub or <a href=\"https://nbviewer.jupyter.org/\">NBViewer</a>),\n",
       "  it may mean that your frontend doesn't currently support widgets.\n",
       "</p>\n"
      ],
      "text/plain": [
       "VBox(children=(HTML(value='<b>Enter time taken post the stimulus trigger (in s)</b>'), FloatText(value=0.1)))"
      ]
     },
     "metadata": {},
     "output_type": "display_data"
    },
    {
     "data": {
      "application/vnd.jupyter.widget-view+json": {
       "model_id": "d725408d959f44df942f717752b1c11d",
       "version_major": 2,
       "version_minor": 0
      },
      "text/html": [
       "<p>Failed to display Jupyter Widget of type <code>VBox</code>.</p>\n",
       "<p>\n",
       "  If you're reading this message in the Jupyter Notebook or JupyterLab Notebook, it may mean\n",
       "  that the widgets JavaScript is still loading. If this message persists, it\n",
       "  likely means that the widgets JavaScript library is either not installed or\n",
       "  not enabled. See the <a href=\"https://ipywidgets.readthedocs.io/en/stable/user_install.html\">Jupyter\n",
       "  Widgets Documentation</a> for setup instructions.\n",
       "</p>\n",
       "<p>\n",
       "  If you're reading this message in another frontend (for example, a static\n",
       "  rendering on GitHub or <a href=\"https://nbviewer.jupyter.org/\">NBViewer</a>),\n",
       "  it may mean that your frontend doesn't currently support widgets.\n",
       "</p>\n"
      ],
      "text/plain": [
       "VBox(children=(HTML(value='<b> Enter the cutoff frequency of the low pass filter to extract LFP from data (in Hz)'), FloatText(value=300.0)))"
      ]
     },
     "metadata": {},
     "output_type": "display_data"
    },
    {
     "data": {
      "application/vnd.jupyter.widget-view+json": {
       "model_id": "fd7db4ca46d9461b9ef831499a932535",
       "version_major": 2,
       "version_minor": 0
      },
      "text/html": [
       "<p>Failed to display Jupyter Widget of type <code>VBox</code>.</p>\n",
       "<p>\n",
       "  If you're reading this message in the Jupyter Notebook or JupyterLab Notebook, it may mean\n",
       "  that the widgets JavaScript is still loading. If this message persists, it\n",
       "  likely means that the widgets JavaScript library is either not installed or\n",
       "  not enabled. See the <a href=\"https://ipywidgets.readthedocs.io/en/stable/user_install.html\">Jupyter\n",
       "  Widgets Documentation</a> for setup instructions.\n",
       "</p>\n",
       "<p>\n",
       "  If you're reading this message in another frontend (for example, a static\n",
       "  rendering on GitHub or <a href=\"https://nbviewer.jupyter.org/\">NBViewer</a>),\n",
       "  it may mean that your frontend doesn't currently support widgets.\n",
       "</p>\n"
      ],
      "text/plain": [
       "VBox(children=(HTML(value=\"<b> Enter the frequency of the notch filter (in Hz). Enter 0 if you don't want a notch filter\"), FloatText(value=50.0)))"
      ]
     },
     "metadata": {},
     "output_type": "display_data"
    },
    {
     "data": {
      "application/vnd.jupyter.widget-view+json": {
       "model_id": "fcfc575570fd49cd9015228e9fead310",
       "version_major": 2,
       "version_minor": 0
      },
      "text/html": [
       "<p>Failed to display Jupyter Widget of type <code>VBox</code>.</p>\n",
       "<p>\n",
       "  If you're reading this message in the Jupyter Notebook or JupyterLab Notebook, it may mean\n",
       "  that the widgets JavaScript is still loading. If this message persists, it\n",
       "  likely means that the widgets JavaScript library is either not installed or\n",
       "  not enabled. See the <a href=\"https://ipywidgets.readthedocs.io/en/stable/user_install.html\">Jupyter\n",
       "  Widgets Documentation</a> for setup instructions.\n",
       "</p>\n",
       "<p>\n",
       "  If you're reading this message in another frontend (for example, a static\n",
       "  rendering on GitHub or <a href=\"https://nbviewer.jupyter.org/\">NBViewer</a>),\n",
       "  it may mean that your frontend doesn't currently support widgets.\n",
       "</p>\n"
      ],
      "text/plain": [
       "VBox(children=(HTML(value='<b>Enter the time to be cut from the beginning of the recording (in s)</b>'), FloatText(value=5.0)))"
      ]
     },
     "metadata": {},
     "output_type": "display_data"
    },
    {
     "data": {
      "application/vnd.jupyter.widget-view+json": {
       "model_id": "94453d96837748d5837a934c653698a9",
       "version_major": 2,
       "version_minor": 0
      },
      "text/html": [
       "<p>Failed to display Jupyter Widget of type <code>VBox</code>.</p>\n",
       "<p>\n",
       "  If you're reading this message in the Jupyter Notebook or JupyterLab Notebook, it may mean\n",
       "  that the widgets JavaScript is still loading. If this message persists, it\n",
       "  likely means that the widgets JavaScript library is either not installed or\n",
       "  not enabled. See the <a href=\"https://ipywidgets.readthedocs.io/en/stable/user_install.html\">Jupyter\n",
       "  Widgets Documentation</a> for setup instructions.\n",
       "</p>\n",
       "<p>\n",
       "  If you're reading this message in another frontend (for example, a static\n",
       "  rendering on GitHub or <a href=\"https://nbviewer.jupyter.org/\">NBViewer</a>),\n",
       "  it may mean that your frontend doesn't currently support widgets.\n",
       "</p>\n"
      ],
      "text/plain": [
       "VBox(children=(HTML(value='<b>Enter the time to be cut from the end of the recording (in s )'), FloatText(value=5.0)))"
      ]
     },
     "metadata": {},
     "output_type": "display_data"
    },
    {
     "data": {
      "application/vnd.jupyter.widget-view+json": {
       "model_id": "4a85ad7cb582406497d89152e3feb48f",
       "version_major": 2,
       "version_minor": 0
      },
      "text/html": [
       "<p>Failed to display Jupyter Widget of type <code>VBox</code>.</p>\n",
       "<p>\n",
       "  If you're reading this message in the Jupyter Notebook or JupyterLab Notebook, it may mean\n",
       "  that the widgets JavaScript is still loading. If this message persists, it\n",
       "  likely means that the widgets JavaScript library is either not installed or\n",
       "  not enabled. See the <a href=\"https://ipywidgets.readthedocs.io/en/stable/user_install.html\">Jupyter\n",
       "  Widgets Documentation</a> for setup instructions.\n",
       "</p>\n",
       "<p>\n",
       "  If you're reading this message in another frontend (for example, a static\n",
       "  rendering on GitHub or <a href=\"https://nbviewer.jupyter.org/\">NBViewer</a>),\n",
       "  it may mean that your frontend doesn't currently support widgets.\n",
       "</p>\n"
      ],
      "text/plain": [
       "VBox(children=(HTML(value='<b>Enter the name of the file where the stimulus trigger is kept</b>'), Text(value='board-DIN-01.dat')))"
      ]
     },
     "metadata": {},
     "output_type": "display_data"
    }
   ],
   "source": [
    "#Creating widgets for the user input on the parameters related to the evoked LFP analysis\n",
    "\n",
    "##doLFPAnalysis\n",
    "\n",
    "dlfp = ipywidgets.Checkbox(value = False, disabled = False)\n",
    "display(HBox([ipywidgets.HTML(value = \"<b>Select if LFP analysis will be done or not</b>\"), dlfp]))\n",
    "\n",
    "##evokedPre\n",
    "\n",
    "epre = ipywidgets.FloatText(value = 0.025, disabled = False)\n",
    "display(VBox([ipywidgets.HTML(value = \"<b>Enter time taken prior to the stimulus trigger (in s)</b>\"), epre]))\n",
    "\n",
    "##evokedPost\n",
    "\n",
    "epost = ipywidgets.FloatText(value = 0.100, disabled = False)\n",
    "display(VBox([ipywidgets.HTML(value = \"<b>Enter time taken post the stimulus trigger (in s)</b>\"), epost]))\n",
    "\n",
    "#low_pass_freq\n",
    "\n",
    "lp = ipywidgets.FloatText(value = 300, disabled = False)\n",
    "display(VBox([ipywidgets.HTML(value = \"<b> Enter the cutoff frequency of the low pass filter to extract LFP from data (in Hz)\"), lp]))\n",
    "\n",
    "#notch_filt_freq\n",
    "\n",
    "nf = ipywidgets.FloatText(value = 50, disabled = False)\n",
    "display(VBox([ipywidgets.HTML(value = \"<b> Enter the frequency of the notch filter (in Hz). Enter 0 if you don't want a notch filter\"), nf]))\n",
    "\n",
    "##cutBeginning\n",
    "\n",
    "cb = ipywidgets.FloatText(value = 5, disabled = False)\n",
    "display(VBox([ipywidgets.HTML(value = \"<b>Enter the time to be cut from the beginning of the recording (in s)</b>\"), cb]))\n",
    "\n",
    "##cutEnd\n",
    "\n",
    "ce = ipywidgets.FloatText(value = 5, disabled = False)\n",
    "display(VBox([ipywidgets.HTML(value = \"<b>Enter the time to be cut from the end of the recording (in s )\"), ce]))\n",
    "\n",
    "##stimPath\n",
    "\n",
    "sp = ipywidgets.Text(value = 'board-DIN-01.dat', disabled = False)\n",
    "display(VBox([ipywidgets.HTML(value = \"<b>Enter the name of the file where the stimulus trigger is kept</b>\"), sp]))"
   ]
  },
  {
   "cell_type": "markdown",
   "metadata": {},
   "source": [
    "# 4) Enter parameters related to spike sorting\n",
    "\n",
    "If you are intending to do spike-sorting on this data, please set the spike-sorting parameters. Otherwise, set the boolean parameter \"do_spike_sorting\" to False below. "
   ]
  },
  {
   "cell_type": "code",
   "execution_count": 4,
   "metadata": {},
   "outputs": [
    {
     "data": {
      "application/vnd.jupyter.widget-view+json": {
       "model_id": "c311280e139e4ea4b8141b0520585350",
       "version_major": 2,
       "version_minor": 0
      },
      "text/html": [
       "<p>Failed to display Jupyter Widget of type <code>HBox</code>.</p>\n",
       "<p>\n",
       "  If you're reading this message in the Jupyter Notebook or JupyterLab Notebook, it may mean\n",
       "  that the widgets JavaScript is still loading. If this message persists, it\n",
       "  likely means that the widgets JavaScript library is either not installed or\n",
       "  not enabled. See the <a href=\"https://ipywidgets.readthedocs.io/en/stable/user_install.html\">Jupyter\n",
       "  Widgets Documentation</a> for setup instructions.\n",
       "</p>\n",
       "<p>\n",
       "  If you're reading this message in another frontend (for example, a static\n",
       "  rendering on GitHub or <a href=\"https://nbviewer.jupyter.org/\">NBViewer</a>),\n",
       "  it may mean that your frontend doesn't currently support widgets.\n",
       "</p>\n"
      ],
      "text/plain": [
       "HBox(children=(HTML(value='<b>Select if spike sorting will be done or not</b>'), Checkbox(value=False)))"
      ]
     },
     "metadata": {},
     "output_type": "display_data"
    },
    {
     "data": {
      "application/vnd.jupyter.widget-view+json": {
       "model_id": "c9fa9df957c74bb5babebf0a1ae205ae",
       "version_major": 2,
       "version_minor": 0
      },
      "text/html": [
       "<p>Failed to display Jupyter Widget of type <code>VBox</code>.</p>\n",
       "<p>\n",
       "  If you're reading this message in the Jupyter Notebook or JupyterLab Notebook, it may mean\n",
       "  that the widgets JavaScript is still loading. If this message persists, it\n",
       "  likely means that the widgets JavaScript library is either not installed or\n",
       "  not enabled. See the <a href=\"https://ipywidgets.readthedocs.io/en/stable/user_install.html\">Jupyter\n",
       "  Widgets Documentation</a> for setup instructions.\n",
       "</p>\n",
       "<p>\n",
       "  If you're reading this message in another frontend (for example, a static\n",
       "  rendering on GitHub or <a href=\"https://nbviewer.jupyter.org/\">NBViewer</a>),\n",
       "  it may mean that your frontend doesn't currently support widgets.\n",
       "</p>\n"
      ],
      "text/plain": [
       "VBox(children=(HTML(value='<b>Enter the length of waveform to be taken before the threshold crossing (in ms)'), FloatText(value=0.5)))"
      ]
     },
     "metadata": {},
     "output_type": "display_data"
    },
    {
     "data": {
      "application/vnd.jupyter.widget-view+json": {
       "model_id": "16895eb9802a4b22927e4015b53e8785",
       "version_major": 2,
       "version_minor": 0
      },
      "text/html": [
       "<p>Failed to display Jupyter Widget of type <code>VBox</code>.</p>\n",
       "<p>\n",
       "  If you're reading this message in the Jupyter Notebook or JupyterLab Notebook, it may mean\n",
       "  that the widgets JavaScript is still loading. If this message persists, it\n",
       "  likely means that the widgets JavaScript library is either not installed or\n",
       "  not enabled. See the <a href=\"https://ipywidgets.readthedocs.io/en/stable/user_install.html\">Jupyter\n",
       "  Widgets Documentation</a> for setup instructions.\n",
       "</p>\n",
       "<p>\n",
       "  If you're reading this message in another frontend (for example, a static\n",
       "  rendering on GitHub or <a href=\"https://nbviewer.jupyter.org/\">NBViewer</a>),\n",
       "  it may mean that your frontend doesn't currently support widgets.\n",
       "</p>\n"
      ],
      "text/plain": [
       "VBox(children=(HTML(value='<b>Enter the length of waveform to be taken after the threshold crossing (in ms)'), FloatText(value=1.5)))"
      ]
     },
     "metadata": {},
     "output_type": "display_data"
    },
    {
     "data": {
      "application/vnd.jupyter.widget-view+json": {
       "model_id": "affd1900fe6d47d7943e61e9c4df1b17",
       "version_major": 2,
       "version_minor": 0
      },
      "text/html": [
       "<p>Failed to display Jupyter Widget of type <code>VBox</code>.</p>\n",
       "<p>\n",
       "  If you're reading this message in the Jupyter Notebook or JupyterLab Notebook, it may mean\n",
       "  that the widgets JavaScript is still loading. If this message persists, it\n",
       "  likely means that the widgets JavaScript library is either not installed or\n",
       "  not enabled. See the <a href=\"https://ipywidgets.readthedocs.io/en/stable/user_install.html\">Jupyter\n",
       "  Widgets Documentation</a> for setup instructions.\n",
       "</p>\n",
       "<p>\n",
       "  If you're reading this message in another frontend (for example, a static\n",
       "  rendering on GitHub or <a href=\"https://nbviewer.jupyter.org/\">NBViewer</a>),\n",
       "  it may mean that your frontend doesn't currently support widgets.\n",
       "</p>\n"
      ],
      "text/plain": [
       "VBox(children=(HTML(value='<b>Enter the lower cutoff frequency for the bandpass filter to be applied on the raw data (in Hz)'), FloatText(value=300.0)))"
      ]
     },
     "metadata": {},
     "output_type": "display_data"
    },
    {
     "data": {
      "application/vnd.jupyter.widget-view+json": {
       "model_id": "76a12af9f2a345fca38aca44bf89c684",
       "version_major": 2,
       "version_minor": 0
      },
      "text/html": [
       "<p>Failed to display Jupyter Widget of type <code>VBox</code>.</p>\n",
       "<p>\n",
       "  If you're reading this message in the Jupyter Notebook or JupyterLab Notebook, it may mean\n",
       "  that the widgets JavaScript is still loading. If this message persists, it\n",
       "  likely means that the widgets JavaScript library is either not installed or\n",
       "  not enabled. See the <a href=\"https://ipywidgets.readthedocs.io/en/stable/user_install.html\">Jupyter\n",
       "  Widgets Documentation</a> for setup instructions.\n",
       "</p>\n",
       "<p>\n",
       "  If you're reading this message in another frontend (for example, a static\n",
       "  rendering on GitHub or <a href=\"https://nbviewer.jupyter.org/\">NBViewer</a>),\n",
       "  it may mean that your frontend doesn't currently support widgets.\n",
       "</p>\n"
      ],
      "text/plain": [
       "VBox(children=(HTML(value='<b>Enter the higher cutoff frequency for the bandpass filter to be applied on the raw data (in Hz)'), FloatText(value=3000.0)))"
      ]
     },
     "metadata": {},
     "output_type": "display_data"
    }
   ],
   "source": [
    "#Creating widgets for the user input on the parameters related to spike sorting\n",
    "\n",
    "##doSpikeSorting\n",
    "\n",
    "dss = ipywidgets.Checkbox(value = False, disabled = False)\n",
    "display(HBox([ipywidgets.HTML(value = \"<b>Select if spike sorting will be done or not</b>\"), dss]))\n",
    "\n",
    "##samplesBefore\n",
    "\n",
    "sb = ipywidgets.FloatText(value = 0.5, disabled = False)\n",
    "display(VBox([ipywidgets.HTML(value = '<b>Enter the length of waveform to be taken before the threshold crossing (in ms)'), sb]))\n",
    "\n",
    "##samplesAfter\n",
    "\n",
    "sa = ipywidgets.FloatText(value = 1.5, disabled = False)\n",
    "display(VBox([ipywidgets.HTML(value = \"<b>Enter the length of waveform to be taken after the threshold crossing (in ms)\"), sa]))\n",
    "\n",
    "##lowCutoff\n",
    "\n",
    "lc = ipywidgets.FloatText(value = 300., disabled = False)\n",
    "display(VBox([ipywidgets.HTML(value = \"<b>Enter the lower cutoff frequency for the bandpass filter to be applied on the raw data (in Hz)\"), lc]))\n",
    "\n",
    "##highCutoff\n",
    "\n",
    "hc = ipywidgets.FloatText(value = 3000., disabled = False)\n",
    "display(VBox([ipywidgets.HTML(value = \"<b>Enter the higher cutoff frequency for the bandpass filter to be applied on the raw data (in Hz)\"), hc]))"
   ]
  },
  {
   "cell_type": "markdown",
   "metadata": {
    "collapsed": true
   },
   "source": [
    "# 5) Generate the parameters dictionaries\n",
    "\n",
    "Please run the block of the code in order to generate the parameters dictionary for each recording session (paramsDict.p) based on the input that you have provided above. "
   ]
  },
  {
   "cell_type": "code",
   "execution_count": 6,
   "metadata": {},
   "outputs": [
    {
     "name": "stdout",
     "output_type": "stream",
     "text": [
      "{'name': 'a2x16_10mm_100_500_177', 'numShanks': 2, 'type': 'linear', 'numTrodesPerShank': 16, 'numTrodes': 32, 'bottom_ycoord': 0, 'top_ycoord': 1600, 'id': array([[ 30.,   0.],\n",
      "       [ 16.,   3.],\n",
      "       [ 26.,  15.],\n",
      "       [ 31.,   4.],\n",
      "       [ 21.,   2.],\n",
      "       [ 18.,  12.],\n",
      "       [ 17.,  13.],\n",
      "       [ 29.,   5.],\n",
      "       [ 27.,   8.],\n",
      "       [ 24.,  11.],\n",
      "       [ 22.,   9.],\n",
      "       [ 19.,  10.],\n",
      "       [ 20.,   7.],\n",
      "       [ 23.,  14.],\n",
      "       [ 25.,   1.],\n",
      "       [ 28.,   6.]])}\n"
     ]
    }
   ],
   "source": [
    "dirs = os.listdir(mp.value) #Listing all recording sessions in the main path\n",
    "probe_info = load_probe_info(pi.value) #Loading probe info from probe selection\n",
    "print(probe_info)\n",
    "\n",
    "for folder in (folder for folder in dirs if ((folder != 'log.txt') and (folder != '.DS_Store') and (folder != 'notes.docx') and (folder != 'other'))):\n",
    "    p = {} #Parameter dictionary (empty)\n",
    "    \n",
    "    #Entering the probe info and electrode mapping into the dictionary\n",
    "    p['shanks'] = probe_info['numShanks']\n",
    "    p['probes'] = np.value\n",
    "    p['probe_type'] = probe_info['type']\n",
    "    p['probe_name'] = probe_info['name']\n",
    "    if probe_info['type'] == 'tetrode':\n",
    "        p['nr_of_tetrodes'] = probe_info['numTetrodes']\n",
    "        p['max_nr_of_tetrodes_per_shank'] = probe_info['numTetrodesPerShank']\n",
    "        p['nr_of_groups'] = p['nr_of_tetrodes']\n",
    "        p['nr_of_electrodes_per_group'] = 4\n",
    "    elif probe_info['type'] == 'linear':\n",
    "        p['nr_of_electrodes_per_shank'] = probe_info['numTrodesPerShank']\n",
    "        p['nr_of_electrodes'] = probe_info['numTrodes']\n",
    "        p['nr_of_groups'] = p['shanks']\n",
    "        p['nr_of_electrodes_per_group'] = p['nr_of_electrodes_per_shank']\n",
    "        p['bottom_ycoord'] = probe_info['bottom_ycoord']\n",
    "        p['top_ycoord'] = probe_info['top_ycoord']\n",
    "    p['id'] = probe_info['id']\n",
    "    \n",
    "    #Entering the path and file format info into the dictionary\n",
    "    p['mainpath'] = mp.value\n",
    "    p['path'] = mp.value + '/' + folder\n",
    "    p['fileformat'] = ff.value\n",
    "    \n",
    "    #Getting the list of 'rhd' files in the folder in case of 'rhd' format\n",
    "    if p['fileformat'] == 'rhd': \n",
    "        p['rhd_file'] = os.listdir(p['path'])\n",
    "        try: #Removing the non-rhd files from the list, if the session was already analyzed\n",
    "            p['rhd_file'].remove('paramsDict.p')\n",
    "            p['rhd_file'].remove('probe.dat')\n",
    "            p['rhd_file'].remove('probe_evoked.pickle')\n",
    "            p['rhd_file'].remove('probe_evoked.png')\n",
    "        except ValueError:\n",
    "            pass\n",
    "    \n",
    "    #Entering the general parameters into the dictionary\n",
    "    p['sample_rate'] = sr.value\n",
    "    \n",
    "    #Entering the LFP analysis parameters into the dictionary\n",
    "    p['LFP_analysis'] = dlfp.value #This has to be specified for running LFP analysis on the EPhys pipeline\n",
    "    if dlfp.value:\n",
    "        p['evoked_pre'] = epre.value\n",
    "        p['evoked_post'] = epost.value\n",
    "        p['low_pass_freq'] = lp.value\n",
    "        p['notch_filt_freq'] = nf.value\n",
    "        p['cut_beginning'] = cb.value\n",
    "        p['cut_end'] = ce.value\n",
    "        p['stim_file'] = sp.value\n",
    "    \n",
    "    #Entering the spike-sorting related parameters into the dictionary\n",
    "    p['spikeSorting'] = dss.value\n",
    "    if dss.value:\n",
    "        #Converting the waveform time window parameters from miliseconds to sample counts before saving\n",
    "        p['samples_before'] = int(sb.value * p['sample_rate'] / 1000) \n",
    "        p['samples_after'] = int(sa.value * p['sample_rate'] / 1000)\n",
    "        p['low_cutoff'] = lc.value\n",
    "        p['high_cutoff'] = hc.value\n",
    "    \n",
    "    #Saving the dictionary in the pickle file named paramsDict.p \n",
    "    pickle.dump(p, open((mp.value + '/' + folder + '/paramsDict.p'), 'wb'))\n",
    "    "
   ]
  },
  {
   "cell_type": "markdown",
   "metadata": {},
   "source": [
    "# Done!\n",
    "\n",
    "You might want to check the folders for the recording sessions in your experiment folder to see whether the paramsDict.p files are created in the right place.\n",
    "\n",
    "Notebook written by Baran Yasar in 04/2017. Please contact him in person or e-mail at yasar@biomed.ee.ethz.ch in case of any questions. "
   ]
  },
  {
   "cell_type": "code",
   "execution_count": null,
   "metadata": {
    "collapsed": true
   },
   "outputs": [],
   "source": []
  }
 ],
 "metadata": {
  "kernelspec": {
   "display_name": "Python 3",
   "language": "python",
   "name": "python3"
  },
  "language_info": {
   "codemirror_mode": {
    "name": "ipython",
    "version": 3
   },
   "file_extension": ".py",
   "mimetype": "text/x-python",
   "name": "python",
   "nbconvert_exporter": "python",
   "pygments_lexer": "ipython3",
   "version": "3.6.3"
  },
  "widgets": {
   "state": {
    "0b23ad28456c4f23a942561bcda5eb64": {
     "views": [
      {
       "cell_index": 7
      }
     ]
    },
    "12f9f642b9644d2c98cf8d041cfcb3b1": {
     "views": [
      {
       "cell_index": 5
      }
     ]
    },
    "1425e2f42fa64d1a942e5de6b35f5dcc": {
     "views": [
      {
       "cell_index": 5
      }
     ]
    },
    "19ad94e405c54df39acd0982bcee7e2c": {
     "views": [
      {
       "cell_index": 5
      }
     ]
    },
    "19b1f845238941118c63187e7efe83e7": {
     "views": [
      {
       "cell_index": 3
      }
     ]
    },
    "1d795e38a3bb47d7af366ecaad7e93e3": {
     "views": [
      {
       "cell_index": 5
      }
     ]
    },
    "1ec1708f510d4158a3b4039206bc620e": {
     "views": [
      {
       "cell_index": 5
      }
     ]
    },
    "23ababd5aa60458c883bc120ffc43c30": {
     "views": [
      {
       "cell_index": 5
      }
     ]
    },
    "2b6a2cdb3cd44a68a2c718969f9e2c52": {
     "views": [
      {
       "cell_index": 3
      }
     ]
    },
    "31277ed2ecad48e49c6735530ce56741": {
     "views": [
      {
       "cell_index": 3
      }
     ]
    },
    "34c3048fafe34358bfe8707b84b2122e": {
     "views": [
      {
       "cell_index": 3
      }
     ]
    },
    "4633bd6695cf4433adfd98369ccadb46": {
     "views": [
      {
       "cell_index": 3
      }
     ]
    },
    "4a8d495df2d3479ca8bd493de73ed2d9": {
     "views": [
      {
       "cell_index": 5
      }
     ]
    },
    "4cdd61d0add34e94b322437dcceb7549": {
     "views": [
      {
       "cell_index": 5
      }
     ]
    },
    "5691316c67534e23a500fe03f2210421": {
     "views": [
      {
       "cell_index": 5
      }
     ]
    },
    "5a0697cd87474e02984de21c990b4933": {
     "views": [
      {
       "cell_index": 5
      }
     ]
    },
    "5d99f69a476443e9bde0b75a7467b5ba": {
     "views": [
      {
       "cell_index": 7
      }
     ]
    },
    "6d07dd01cdfc419eb724c686e1a968a8": {
     "views": [
      {
       "cell_index": 7
      }
     ]
    },
    "7139e6505e5a4bc3ba0ca91c8896753d": {
     "views": [
      {
       "cell_index": 3
      }
     ]
    },
    "71a6f147f99148a4b7ba77522484b5bf": {
     "views": [
      {
       "cell_index": 5
      }
     ]
    },
    "84796df1b37d43549cdbf83309829ec2": {
     "views": [
      {
       "cell_index": 3
      }
     ]
    },
    "851f60ceeb5842e686055e23b68a34c7": {
     "views": [
      {
       "cell_index": 7
      }
     ]
    },
    "8cb11d8383374af89373bd86180857ba": {
     "views": [
      {
       "cell_index": 5
      }
     ]
    },
    "a1b6d277e4ba4f4fb54d5496f344dc72": {
     "views": [
      {
       "cell_index": 3
      }
     ]
    },
    "a2ea5f6cdbe24c279ca7a6518e18804d": {
     "views": [
      {
       "cell_index": 3
      }
     ]
    },
    "a625e4e6e77949e488892d40332ac276": {
     "views": [
      {
       "cell_index": 5
      }
     ]
    },
    "abdace8ef042431f97b5eeb7b41e2a56": {
     "views": [
      {
       "cell_index": 5
      }
     ]
    },
    "b4e1682bcaa34ba6b02137a6b4ec0941": {
     "views": [
      {
       "cell_index": 7
      }
     ]
    },
    "bfd2d84759544debbb9c0a68624a1b73": {
     "views": [
      {
       "cell_index": 5
      }
     ]
    },
    "cacf670efc54427eb5c1fb3bae79e811": {
     "views": [
      {
       "cell_index": 7
      }
     ]
    },
    "cff0d9192cdf4eada5321220fe957fbc": {
     "views": [
      {
       "cell_index": 5
      }
     ]
    },
    "db4ce7def95d41f6aa8899c3a96e8b34": {
     "views": [
      {
       "cell_index": 7
      }
     ]
    },
    "e690e918fd6442bbab955e683d80278d": {
     "views": [
      {
       "cell_index": 3
      }
     ]
    },
    "e845ca1499e54805ad500daa26839838": {
     "views": [
      {
       "cell_index": 5
      }
     ]
    },
    "e929b0e574c7471abfc081d47f4b536e": {
     "views": [
      {
       "cell_index": 7
      }
     ]
    },
    "f2c637dfbd314ce1b2b761f51f37e5a3": {
     "views": [
      {
       "cell_index": 7
      }
     ]
    },
    "f84e43f3e4424e0292e0835ba674a98d": {
     "views": [
      {
       "cell_index": 5
      }
     ]
    },
    "fa990b83b1f8411d99f846345e6613b9": {
     "views": [
      {
       "cell_index": 5
      }
     ]
    },
    "fe85eb84daa64b82bb48605afe7fb5f4": {
     "views": [
      {
       "cell_index": 5
      }
     ]
    },
    "ff3d32d6f0f749dc855d7457d654640d": {
     "views": [
      {
       "cell_index": 7
      }
     ]
    }
   },
   "version": "1.2.0"
  }
 },
 "nbformat": 4,
 "nbformat_minor": 2
}

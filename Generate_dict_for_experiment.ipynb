{
 "cells": [
  {
   "cell_type": "markdown",
   "metadata": {},
   "source": [
    "# Welcome \n",
    "\n",
    "Welcome to the script for generating parameter dictionaries for the recording sessions in your experiment folder. Please follow the upcoming steps in this notebook for further instructions. \n",
    "\n",
    "## 1) Import the packages required for running the script\n",
    "\n",
    "Please run the block of code to import the Python packages that are required for running the rest of this script. "
   ]
  },
  {
   "cell_type": "code",
   "execution_count": 1,
   "metadata": {
    "collapsed": true
   },
   "outputs": [],
   "source": [
    "#Import required packages\n",
    "import pickle\n",
    "import os\n",
    "from utils.load_probe_info import load_probe_info\n",
    "import ipywidgets\n",
    "from ipywidgets import Layout, HBox, VBox\n",
    "from IPython.display import display"
   ]
  },
  {
   "cell_type": "markdown",
   "metadata": {},
   "source": [
    "## 2) Enter general parameters for the experiment."
   ]
  },
  {
   "cell_type": "code",
   "execution_count": 2,
   "metadata": {},
   "outputs": [
    {
     "data": {
      "application/vnd.jupyter.widget-view+json": {
       "model_id": "0ed12f97f8c24c72bbc05fed38a7e6f3",
       "version_major": 2,
       "version_minor": 0
      },
      "text/plain": [
       "A Jupyter Widget"
      ]
     },
     "metadata": {},
     "output_type": "display_data"
    },
    {
     "data": {
      "application/vnd.jupyter.widget-view+json": {
       "model_id": "ff0ae4614df745518b240aff01f8fc66",
       "version_major": 2,
       "version_minor": 0
      },
      "text/plain": [
       "A Jupyter Widget"
      ]
     },
     "metadata": {},
     "output_type": "display_data"
    },
    {
     "data": {
      "application/vnd.jupyter.widget-view+json": {
       "model_id": "9476a632b5134df2a1356667b862951b",
       "version_major": 2,
       "version_minor": 0
      },
      "text/plain": [
       "A Jupyter Widget"
      ]
     },
     "metadata": {},
     "output_type": "display_data"
    },
    {
     "data": {
      "application/vnd.jupyter.widget-view+json": {
       "model_id": "6530f2bbcdfc41c9882578b87f284fda",
       "version_major": 2,
       "version_minor": 0
      },
      "text/plain": [
       "A Jupyter Widget"
      ]
     },
     "metadata": {},
     "output_type": "display_data"
    },
    {
     "data": {
      "application/vnd.jupyter.widget-view+json": {
       "model_id": "5ea35cc077614e60b3a74f665c19ac50",
       "version_major": 2,
       "version_minor": 0
      },
      "text/plain": [
       "A Jupyter Widget"
      ]
     },
     "metadata": {},
     "output_type": "display_data"
    }
   ],
   "source": [
    "#Creating widgets for the user input on the general parameters for the experiment\n",
    "\n",
    "##Main path for the data \n",
    "\n",
    "mp_html = ipywidgets.HTML(value = \"<p><b>Path to the data of the experiment:</b><br />Enter the path to the folder (with no '/' at the end) that is hierarchically right above the folders of the recording sessions</p>\")\n",
    "mp = ipywidgets.Text(value = \"\", placeholder = \"Enter path for data\", disabled = False)\n",
    "display(VBox([mp_html, mp]))\n",
    "\n",
    "##Sampling rate\n",
    "sr = ipywidgets.IntText(value = 30000, disabled = False)\n",
    "display(VBox([ipywidgets.HTML(value = \"<b> Sampling rate (Hz): </b>\"),sr]))\n",
    "\n",
    "##File format\n",
    "ff_html = ipywidgets.HTML(value = \"<p><b>File format:</b><br />(dat for .dat, cont for .continuous, rhd for .rhd)</p>\")\n",
    "ff = ipywidgets.Text(value = 'dat', placeholder = 'Enter file format',\n",
    "             disabled = False)\n",
    "display(VBox([ff_html,ff]))\n",
    "\n",
    "##Number of probes\n",
    "\n",
    "np_html = ipywidgets.HTML(value = \"<p><b>Number of probes:</b><br /><b>WARNING:</b>Pipeline currently supports <b>ONLY</b> the multiple probes being <b>IDENTICAL</b> in type and mapping!!! Pipeline has to be updated before using multiple probes of different types!</p>\")\n",
    "np = ipywidgets.IntText(value = 1, disabled = False)\n",
    "display(VBox([np_html, np]))\n",
    "\n",
    "##Probe info\n",
    "pi_html = ipywidgets.HTML(value = \"<b>Type of the probe used in the experiment</b>\")\n",
    "pi = ipywidgets.Dropdown(options=['a4x8_5mm_100_200_177', 'a4x4_tet_150_200_1212', 'a2x16_10mm_100_500_177'], \n",
    "                   value = 'a2x16_10mm_100_500_177', disabled = False)\n",
    "display(VBox([pi_html, pi]))\n",
    "\n"
   ]
  },
  {
   "cell_type": "markdown",
   "metadata": {
    "collapsed": true
   },
   "source": [
    "## 3) Enter parameters related to the LFP analysis"
   ]
  },
  {
   "cell_type": "code",
   "execution_count": 3,
   "metadata": {},
   "outputs": [
    {
     "data": {
      "application/vnd.jupyter.widget-view+json": {
       "model_id": "9e1f066503c44edbab85171de6e8abd3",
       "version_major": 2,
       "version_minor": 0
      },
      "text/plain": [
       "A Jupyter Widget"
      ]
     },
     "metadata": {},
     "output_type": "display_data"
    },
    {
     "data": {
      "application/vnd.jupyter.widget-view+json": {
       "model_id": "f14f7ccf5eb04c6681633c89f399d732",
       "version_major": 2,
       "version_minor": 0
      },
      "text/plain": [
       "A Jupyter Widget"
      ]
     },
     "metadata": {},
     "output_type": "display_data"
    },
    {
     "data": {
      "application/vnd.jupyter.widget-view+json": {
       "model_id": "4171e30094114bcfa23db5d61cec2c4f",
       "version_major": 2,
       "version_minor": 0
      },
      "text/plain": [
       "A Jupyter Widget"
      ]
     },
     "metadata": {},
     "output_type": "display_data"
    },
    {
     "data": {
      "application/vnd.jupyter.widget-view+json": {
       "model_id": "f6d0c02332b34e11b64c182dec26dff3",
       "version_major": 2,
       "version_minor": 0
      },
      "text/plain": [
       "A Jupyter Widget"
      ]
     },
     "metadata": {},
     "output_type": "display_data"
    },
    {
     "data": {
      "application/vnd.jupyter.widget-view+json": {
       "model_id": "6fe3f8b96be84feb872a2c5cbd8117e4",
       "version_major": 2,
       "version_minor": 0
      },
      "text/plain": [
       "A Jupyter Widget"
      ]
     },
     "metadata": {},
     "output_type": "display_data"
    },
    {
     "data": {
      "application/vnd.jupyter.widget-view+json": {
       "model_id": "cb0826be7e384be1b374bc54cb1eda11",
       "version_major": 2,
       "version_minor": 0
      },
      "text/plain": [
       "A Jupyter Widget"
      ]
     },
     "metadata": {},
     "output_type": "display_data"
    },
    {
     "data": {
      "application/vnd.jupyter.widget-view+json": {
       "model_id": "bcf656ea4b0843288ca5d97552a47bce",
       "version_major": 2,
       "version_minor": 0
      },
      "text/plain": [
       "A Jupyter Widget"
      ]
     },
     "metadata": {},
     "output_type": "display_data"
    }
   ],
   "source": [
    "#Creating widgets for the user input on the parameters related to the evoked LFP analysis\n",
    "\n",
    "##doLFPAnalysis\n",
    "\n",
    "dlfp = ipywidgets.Checkbox(value = False, disabled = False)\n",
    "display(HBox([ipywidgets.HTML(value = \"<b>Select if LFP analysis will be done or not</b>\"), dlfp]))\n",
    "\n",
    "##evokedPre\n",
    "\n",
    "epre = ipywidgets.FloatText(value = 0.025, disabled = False)\n",
    "display(VBox([ipywidgets.HTML(value = \"<b>Enter time taken prior to the stimulus trigger (in s)</b>\"), epre]))\n",
    "\n",
    "##evokedPost\n",
    "\n",
    "epost = ipywidgets.FloatText(value = 0.100, disabled = False)\n",
    "display(VBox([ipywidgets.HTML(value = \"<b>Enter time taken post the stimulus trigger (in s)</b>\"), epost]))\n",
    "\n",
    "#low_pass_freq\n",
    "\n",
    "lp = ipywidgets.FloatText(value = 300, disabled = False)\n",
    "display(VBox([ipywidgets.HTML(value = \"<b> Enter the cutoff frequency of the low pass filter to extract LFP from data (in Hz)\"), lp]))\n",
    "\n",
    "#notch_filt_freq\n",
    "\n",
    "nf = ipywidgets.FloatText(value = 50, disabled = False)\n",
    "display(VBox([ipywidgets.HTML(value = \"<b> Enter the frequency of the notch filter (in Hz). Enter 0 if you don't want a notch filter\"), nf]))\n",
    "\n",
    "##cutBeginning\n",
    "\n",
    "cb = ipywidgets.FloatText(value = 5, disabled = False)\n",
    "display(VBox([ipywidgets.HTML(value = \"<b>Enter the time to be cut from the beginning of the recording (in s)</b>\"), cb]))\n",
    "\n",
    "##cutEnd\n",
    "\n",
    "ce = ipywidgets.FloatText(value = 5, disabled = False)\n",
    "display(VBox([ipywidgets.HTML(value = \"<b>Enter the time to be cut from the end of the recording (in s )\"), ce]))"
   ]
  },
  {
   "cell_type": "markdown",
   "metadata": {},
   "source": [
    "# 4) Enter parameters related to spike sorting\n",
    "\n",
    "If you are intending to do spike-sorting on this data, please set the spike-sorting parameters. Otherwise, set the boolean parameter \"do_spike_sorting\" to False below. "
   ]
  },
  {
   "cell_type": "code",
   "execution_count": 4,
   "metadata": {},
   "outputs": [
    {
     "data": {
      "application/vnd.jupyter.widget-view+json": {
       "model_id": "70b724d38bd5420e9d03adf24b90584e",
       "version_major": 2,
       "version_minor": 0
      },
      "text/plain": [
       "A Jupyter Widget"
      ]
     },
     "metadata": {},
     "output_type": "display_data"
    },
    {
     "data": {
      "application/vnd.jupyter.widget-view+json": {
       "model_id": "945390d4a5994abfabc68ecf8e68bcfc",
       "version_major": 2,
       "version_minor": 0
      },
      "text/plain": [
       "A Jupyter Widget"
      ]
     },
     "metadata": {},
     "output_type": "display_data"
    },
    {
     "data": {
      "application/vnd.jupyter.widget-view+json": {
       "model_id": "99712422ea324d938d724b70de307ecb",
       "version_major": 2,
       "version_minor": 0
      },
      "text/plain": [
       "A Jupyter Widget"
      ]
     },
     "metadata": {},
     "output_type": "display_data"
    },
    {
     "data": {
      "application/vnd.jupyter.widget-view+json": {
       "model_id": "5a9ef9c1262a4f84b90a647699a10ed3",
       "version_major": 2,
       "version_minor": 0
      },
      "text/plain": [
       "A Jupyter Widget"
      ]
     },
     "metadata": {},
     "output_type": "display_data"
    },
    {
     "data": {
      "application/vnd.jupyter.widget-view+json": {
       "model_id": "b982dbc42f67469ab02cb0803cf279b7",
       "version_major": 2,
       "version_minor": 0
      },
      "text/plain": [
       "A Jupyter Widget"
      ]
     },
     "metadata": {},
     "output_type": "display_data"
    }
   ],
   "source": [
    "#Creating widgets for the user input on the parameters related to spike sorting\n",
    "\n",
    "##doSpikeSorting\n",
    "\n",
    "dss = ipywidgets.Checkbox(value = False, disabled = False)\n",
    "display(HBox([ipywidgets.HTML(value = \"<b>Select if spike sorting will be done or not</b>\"), dss]))\n",
    "\n",
    "##samplesBefore\n",
    "\n",
    "sb = ipywidgets.FloatText(value = 0.5, disabled = False)\n",
    "display(VBox([ipywidgets.HTML(value = '<b>Enter the length of waveform to be taken before the threshold crossing (in ms)'), sb]))\n",
    "\n",
    "##samplesAfter\n",
    "\n",
    "sa = ipywidgets.FloatText(value = 1.5, disabled = False)\n",
    "display(VBox([ipywidgets.HTML(value = \"<b>Enter the length of waveform to be taken after the threshold crossing (in ms)\"), sa]))\n",
    "\n",
    "##lowCutoff\n",
    "\n",
    "lc = ipywidgets.FloatText(value = 300., disabled = False)\n",
    "display(VBox([ipywidgets.HTML(value = \"<b>Enter the lower cutoff frequency for the bandpass filter to be applied on the raw data (in Hz)\"), lc]))\n",
    "\n",
    "##highCutoff\n",
    "\n",
    "hc = ipywidgets.FloatText(value = 3000., disabled = False)\n",
    "display(VBox([ipywidgets.HTML(value = \"<b>Enter the higher cutoff frequency for the bandpass filter to be applied on the raw data (in Hz)\"), hc]))"
   ]
  },
  {
   "cell_type": "markdown",
   "metadata": {
    "collapsed": true
   },
   "source": [
    "# 5) Generate the parameters dictionaries\n",
    "\n",
    "Please run the block of the code in order to generate the parameters dictionary for each recording session (paramsDict.p) based on the input that you have provided above. "
   ]
  },
  {
   "cell_type": "code",
   "execution_count": 5,
   "metadata": {},
   "outputs": [],
   "source": [
    "dirs = os.listdir(mp.value) #Listing all recording sessions in the main path\n",
    "probe_info = load_probe_info(pi.value) #Loading probe info from probe selection\n",
    "\n",
    "for folder in (folder for folder in dirs if ((folder != 'log.txt') and (folder != '.DS_Store') and (folder != 'notes.docx') and (folder != 'other'))):\n",
    "    p = {} #Parameter dictionary (empty)\n",
    "    \n",
    "    #Entering the probe info and electrode mapping into the dictionary\n",
    "    p['shanks'] = probe_info['numShanks']\n",
    "    p['probes'] = np.value\n",
    "    p['probe_type'] = probe_info['type']\n",
    "    p['probe_name'] = probe_info['name']\n",
    "    if probe_info['type'] == 'tetrode':\n",
    "        p['nr_of_tetrodes'] = probe_info['numTetrodes']\n",
    "        p['max_nr_of_tetrodes_per_shank'] = probe_info['numTetrodesPerShank']\n",
    "    elif probe_info['type'] == 'linear':\n",
    "        p['nr_of_electrodes_per_shank'] = probe_info['numTrodesPerShank']\n",
    "        p['nr_of_electrodes'] = probe_info['numTrodes']\n",
    "    p['id'] = probe_info['id']\n",
    "    \n",
    "    #Entering the path and file format info into the dictionary\n",
    "    p['path'] = mp.value + '/' + folder\n",
    "    p['fileformat'] = ff.value\n",
    "    \n",
    "    #Getting the list of 'rhd' files in the folder in case of 'rhd' format\n",
    "    if p['fileformat'] == 'rhd': \n",
    "        p['rhd_file'] = os.listdir(p['path'])\n",
    "        try: #Removing the non-rhd files from the list, if the session was already analyzed\n",
    "            p['rhd_file'].remove('paramsDict.p')\n",
    "            p['rhd_file'].remove('probe.dat')\n",
    "            p['rhd_file'].remove('probe_evoked.pickle')\n",
    "            p['rhd_file'].remove('probe_evoked.png')\n",
    "        except ValueError:\n",
    "            pass\n",
    "    \n",
    "    #Entering the general parameters into the dictionary\n",
    "    p['sample_rate'] = sr.value\n",
    "    \n",
    "    #Entering the LFP analysis parameters into the dictionary\n",
    "    p['LFP_analysis'] = dlfp.value #This has to be specified for running LFP analysis on the EPhys pipeline\n",
    "    if dlfp.value:\n",
    "        p['evoked_pre'] = epre.value\n",
    "        p['evoked_post'] = epost.value\n",
    "        p['low_pass_freq'] = lp.value\n",
    "        p['notch_filt_freq'] = nf.value\n",
    "        p['cut_beginning'] = cb.value\n",
    "        p['cut_end'] = ce.value\n",
    "    \n",
    "    #Entering the spike-sorting related parameters into the dictionary\n",
    "    p['spikeSorting'] = dss.value\n",
    "    if dss.value:\n",
    "        #Converting the waveform time window parameters from miliseconds to sample counts before saving\n",
    "        p['samples_before'] = int(sb.value * p['sample_rate'] / 1000) \n",
    "        p['samples_after'] = int(sa.value * p['sample_rate'] / 1000)\n",
    "        p['low_cutoff'] = lc.value\n",
    "        p['high_cutoff'] = hc.value\n",
    "    \n",
    "    #Saving the dictionary in the pickle file named paramsDict.p \n",
    "    pickle.dump(p, open((mp.value + '/' + folder + '/paramsDict.p'), 'wb'))\n",
    "    "
   ]
  },
  {
   "cell_type": "markdown",
   "metadata": {},
   "source": [
    "# Done!\n",
    "\n",
    "You might want to check the folders for the recording sessions in your experiment folder to see whether the paramsDict.p files are created in the right place.\n",
    "\n",
    "Notebook written by Baran Yasar in 04/2017. Please contact him in person or e-mail at yasar@biomed.ee.ethz.ch in case of any questions. "
   ]
  },
  {
   "cell_type": "code",
   "execution_count": null,
   "metadata": {
    "collapsed": true
   },
   "outputs": [],
   "source": []
  }
 ],
 "metadata": {
  "kernelspec": {
   "display_name": "Python 3",
   "language": "python",
   "name": "python3"
  },
  "language_info": {
   "codemirror_mode": {
    "name": "ipython",
    "version": 3
   },
   "file_extension": ".py",
   "mimetype": "text/x-python",
   "name": "python",
   "nbconvert_exporter": "python",
   "pygments_lexer": "ipython3",
   "version": "3.6.3"
  },
  "widgets": {
   "state": {
    "3c59074d78c94161a3385d1e52c1434e": {
     "views": [
      {
       "cell_index": 3
      }
     ]
    },
    "52c1d1523a1e43c888749db4cd535e5b": {
     "views": [
      {
       "cell_index": 3
      }
     ]
    },
    "8ba021d9615a42f682e54b574bc0b47c": {
     "views": [
      {
       "cell_index": 3
      }
     ]
    },
    "900be5382baf4c8d90bbb34018cfecf2": {
     "views": [
      {
       "cell_index": 3
      }
     ]
    },
    "b88edfca2c4049dcbe034d73e1a2f504": {
     "views": [
      {
       "cell_index": 3
      }
     ]
    }
   },
   "version": "1.2.0"
  }
 },
 "nbformat": 4,
 "nbformat_minor": 2
}

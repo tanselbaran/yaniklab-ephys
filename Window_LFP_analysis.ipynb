{
 "cells": [
  {
   "cell_type": "markdown",
   "metadata": {},
   "source": [
    "# Evoked LFP Analysis in Time Windows\n",
    "\n",
    "This script is for breaking down a recording session and analyzing how the characteristics of the stimulus-evoked LFP response change over time windows indicated by the user. Please follow the upcoming steps in this notebook to perform the analysis. <b> You need to enter information and re-run the code for every recording session you want to analyze in time windows. </b>\n",
    "\n",
    "## 1) Import the packages required for the analysis\n",
    "\n",
    "Please run the following block of code to import the Python packages that are required to run the rest of this script. "
   ]
  },
  {
   "cell_type": "code",
   "execution_count": 1,
   "metadata": {},
   "outputs": [],
   "source": [
    "import numpy as np\n",
    "import pickle\n",
    "import os\n",
    "import ipywidgets \n",
    "import math\n",
    "from matplotlib.pyplot import *\n",
    "from ipywidgets import VBox, HBox\n",
    "from IPython.display import display\n",
    "from LFPutils.analyze_time_windows import analyze_time_windows\n",
    "from LFPutils.avg_eLFP_tw import avg_eLFP_tw"
   ]
  },
  {
   "cell_type": "markdown",
   "metadata": {},
   "source": [
    "## 2) Enter the path and the parameters for the analysis\n",
    "\n",
    "Please run the following block of code and enter the relevant information in the IPython widgets that show up after running the code. "
   ]
  },
  {
   "cell_type": "code",
   "execution_count": 2,
   "metadata": {
    "scrolled": true
   },
   "outputs": [
    {
     "data": {
      "application/vnd.jupyter.widget-view+json": {
       "model_id": "5ee5d23bd1e243778c2407b93bbb4e36",
       "version_major": 2,
       "version_minor": 0
      },
      "text/html": [
       "<p>Failed to display Jupyter Widget of type <code>VBox</code>.</p>\n",
       "<p>\n",
       "  If you're reading this message in the Jupyter Notebook or JupyterLab Notebook, it may mean\n",
       "  that the widgets JavaScript is still loading. If this message persists, it\n",
       "  likely means that the widgets JavaScript library is either not installed or\n",
       "  not enabled. See the <a href=\"https://ipywidgets.readthedocs.io/en/stable/user_install.html\">Jupyter\n",
       "  Widgets Documentation</a> for setup instructions.\n",
       "</p>\n",
       "<p>\n",
       "  If you're reading this message in another frontend (for example, a static\n",
       "  rendering on GitHub or <a href=\"https://nbviewer.jupyter.org/\">NBViewer</a>),\n",
       "  it may mean that your frontend doesn't currently support widgets.\n",
       "</p>\n"
      ],
      "text/plain": [
       "VBox(children=(HTML(value=\"<p><b>Path to the data:</b><br />Enter the path to the folder (without '/' at the end) that is hierarchically right above the folders of the recording sessions</p>\"), Text(value='', placeholder='Enter path for data')))"
      ]
     },
     "metadata": {},
     "output_type": "display_data"
    },
    {
     "data": {
      "application/vnd.jupyter.widget-view+json": {
       "model_id": "3043282471624ed8a1021a1b0f46ca78",
       "version_major": 2,
       "version_minor": 0
      },
      "text/html": [
       "<p>Failed to display Jupyter Widget of type <code>HBox</code>.</p>\n",
       "<p>\n",
       "  If you're reading this message in the Jupyter Notebook or JupyterLab Notebook, it may mean\n",
       "  that the widgets JavaScript is still loading. If this message persists, it\n",
       "  likely means that the widgets JavaScript library is either not installed or\n",
       "  not enabled. See the <a href=\"https://ipywidgets.readthedocs.io/en/stable/user_install.html\">Jupyter\n",
       "  Widgets Documentation</a> for setup instructions.\n",
       "</p>\n",
       "<p>\n",
       "  If you're reading this message in another frontend (for example, a static\n",
       "  rendering on GitHub or <a href=\"https://nbviewer.jupyter.org/\">NBViewer</a>),\n",
       "  it may mean that your frontend doesn't currently support widgets.\n",
       "</p>\n"
      ],
      "text/plain": [
       "HBox(children=(HTML(value='<b>Analyze all Recording Sessions?</b>'), Checkbox(value=False)))"
      ]
     },
     "metadata": {},
     "output_type": "display_data"
    },
    {
     "data": {
      "application/vnd.jupyter.widget-view+json": {
       "model_id": "ff11e29eef984858b15c0e167c5bc6ab",
       "version_major": 2,
       "version_minor": 0
      },
      "text/html": [
       "<p>Failed to display Jupyter Widget of type <code>VBox</code>.</p>\n",
       "<p>\n",
       "  If you're reading this message in the Jupyter Notebook or JupyterLab Notebook, it may mean\n",
       "  that the widgets JavaScript is still loading. If this message persists, it\n",
       "  likely means that the widgets JavaScript library is either not installed or\n",
       "  not enabled. See the <a href=\"https://ipywidgets.readthedocs.io/en/stable/user_install.html\">Jupyter\n",
       "  Widgets Documentation</a> for setup instructions.\n",
       "</p>\n",
       "<p>\n",
       "  If you're reading this message in another frontend (for example, a static\n",
       "  rendering on GitHub or <a href=\"https://nbviewer.jupyter.org/\">NBViewer</a>),\n",
       "  it may mean that your frontend doesn't currently support widgets.\n",
       "</p>\n"
      ],
      "text/plain": [
       "VBox(children=(HTML(value=\"<p><b>Select this only if you want to analyze a particular folder:</b><br />Enter the name of the folder (with no '/' at the end) that contains the recording session which you want to analyze in time windows.</p>\"), Text(value='', placeholder='Enter folder name')))"
      ]
     },
     "metadata": {},
     "output_type": "display_data"
    },
    {
     "data": {
      "application/vnd.jupyter.widget-view+json": {
       "model_id": "9d059fdaf33943509167bdc8497fcff7",
       "version_major": 2,
       "version_minor": 0
      },
      "text/html": [
       "<p>Failed to display Jupyter Widget of type <code>VBox</code>.</p>\n",
       "<p>\n",
       "  If you're reading this message in the Jupyter Notebook or JupyterLab Notebook, it may mean\n",
       "  that the widgets JavaScript is still loading. If this message persists, it\n",
       "  likely means that the widgets JavaScript library is either not installed or\n",
       "  not enabled. See the <a href=\"https://ipywidgets.readthedocs.io/en/stable/user_install.html\">Jupyter\n",
       "  Widgets Documentation</a> for setup instructions.\n",
       "</p>\n",
       "<p>\n",
       "  If you're reading this message in another frontend (for example, a static\n",
       "  rendering on GitHub or <a href=\"https://nbviewer.jupyter.org/\">NBViewer</a>),\n",
       "  it may mean that your frontend doesn't currently support widgets.\n",
       "</p>\n"
      ],
      "text/plain": [
       "VBox(children=(HTML(value='<b>Length of the time windows that you want the recording session to be broken into (in minutes)</b>'), FloatText(value=1.0)))"
      ]
     },
     "metadata": {},
     "output_type": "display_data"
    },
    {
     "data": {
      "application/vnd.jupyter.widget-view+json": {
       "model_id": "e7a8c5b3ba2b457883cf3a96b84bb752",
       "version_major": 2,
       "version_minor": 0
      },
      "text/html": [
       "<p>Failed to display Jupyter Widget of type <code>VBox</code>.</p>\n",
       "<p>\n",
       "  If you're reading this message in the Jupyter Notebook or JupyterLab Notebook, it may mean\n",
       "  that the widgets JavaScript is still loading. If this message persists, it\n",
       "  likely means that the widgets JavaScript library is either not installed or\n",
       "  not enabled. See the <a href=\"https://ipywidgets.readthedocs.io/en/stable/user_install.html\">Jupyter\n",
       "  Widgets Documentation</a> for setup instructions.\n",
       "</p>\n",
       "<p>\n",
       "  If you're reading this message in another frontend (for example, a static\n",
       "  rendering on GitHub or <a href=\"https://nbviewer.jupyter.org/\">NBViewer</a>),\n",
       "  it may mean that your frontend doesn't currently support widgets.\n",
       "</p>\n"
      ],
      "text/plain": [
       "VBox(children=(HTML(value='<b>Enter the Probe Number for which you want to plot the Average Evoked LFP for Time Windows</b>'), IntText(value=0)))"
      ]
     },
     "metadata": {},
     "output_type": "display_data"
    },
    {
     "data": {
      "application/vnd.jupyter.widget-view+json": {
       "model_id": "8940544a4fa14447987f5387039c0c05",
       "version_major": 2,
       "version_minor": 0
      },
      "text/html": [
       "<p>Failed to display Jupyter Widget of type <code>VBox</code>.</p>\n",
       "<p>\n",
       "  If you're reading this message in the Jupyter Notebook or JupyterLab Notebook, it may mean\n",
       "  that the widgets JavaScript is still loading. If this message persists, it\n",
       "  likely means that the widgets JavaScript library is either not installed or\n",
       "  not enabled. See the <a href=\"https://ipywidgets.readthedocs.io/en/stable/user_install.html\">Jupyter\n",
       "  Widgets Documentation</a> for setup instructions.\n",
       "</p>\n",
       "<p>\n",
       "  If you're reading this message in another frontend (for example, a static\n",
       "  rendering on GitHub or <a href=\"https://nbviewer.jupyter.org/\">NBViewer</a>),\n",
       "  it may mean that your frontend doesn't currently support widgets.\n",
       "</p>\n"
      ],
      "text/plain": [
       "VBox(children=(HTML(value='<b>Enter the Shank Number for which you want to plot the Average Evoked LFP for Time Windows</b>'), IntText(value=0)))"
      ]
     },
     "metadata": {},
     "output_type": "display_data"
    },
    {
     "data": {
      "application/vnd.jupyter.widget-view+json": {
       "model_id": "e98faa9fb0bd4d43b9097a570ec07716",
       "version_major": 2,
       "version_minor": 0
      },
      "text/html": [
       "<p>Failed to display Jupyter Widget of type <code>VBox</code>.</p>\n",
       "<p>\n",
       "  If you're reading this message in the Jupyter Notebook or JupyterLab Notebook, it may mean\n",
       "  that the widgets JavaScript is still loading. If this message persists, it\n",
       "  likely means that the widgets JavaScript library is either not installed or\n",
       "  not enabled. See the <a href=\"https://ipywidgets.readthedocs.io/en/stable/user_install.html\">Jupyter\n",
       "  Widgets Documentation</a> for setup instructions.\n",
       "</p>\n",
       "<p>\n",
       "  If you're reading this message in another frontend (for example, a static\n",
       "  rendering on GitHub or <a href=\"https://nbviewer.jupyter.org/\">NBViewer</a>),\n",
       "  it may mean that your frontend doesn't currently support widgets.\n",
       "</p>\n"
      ],
      "text/plain": [
       "VBox(children=(HTML(value='<b>Enter the Electrode Number for which you want to plot the Average Evoked LFP for Time Windows</b>'), IntText(value=0)))"
      ]
     },
     "metadata": {},
     "output_type": "display_data"
    }
   ],
   "source": [
    "#Creating widgets for the user input on the general parameters for the experiment\n",
    "\n",
    "##Main path for the data \n",
    "\n",
    "mp_html = ipywidgets.HTML(value = \"<p><b>Path to the data:</b><br />Enter the path to the folder (without '/' at the end) that is hierarchically right above the folders of the recording sessions</p>\")\n",
    "mp = ipywidgets.Text(value = \"\", placeholder = \"Enter path for data\", disabled = False)\n",
    "display(VBox([mp_html, mp]))\n",
    "\n",
    "## Analyse all Folders\n",
    "aallf = ipywidgets.Checkbox(value = False, disabled = False)\n",
    "display(HBox([ipywidgets.HTML(value = \"<b>Analyze all Recording Sessions?</b>\"), aallf]))\n",
    "\n",
    "##Name of the folder to be analyzed \n",
    "fn_html = ipywidgets.HTML(value = \"<p><b>Select this only if you want to analyze a particular folder:</b><br />Enter the name of the folder (with no '/' at the end) that contains the recording session which you want to analyze in time windows.</p>\")\n",
    "fn = ipywidgets.Text(value = \"\", placeholder = \"Enter folder name\", disabled = False)\n",
    "display(VBox([fn_html, fn]))\n",
    "\n",
    "##Length of the time window \n",
    "tw_html = ipywidgets.HTML(value = \"<b>Length of the time windows that you want the recording session to be broken into (in minutes)</b>\")\n",
    "tw = ipywidgets.FloatText(value = 1, disabled = False)\n",
    "display(VBox([tw_html, tw]))\n",
    "\n",
    "##Name the probe to be analyzed \n",
    "pb_html = ipywidgets.HTML(value = \"<b>Enter the Probe Number for which you want to plot the Average Evoked LFP for Time Windows</b>\")\n",
    "pb = ipywidgets.IntText(value = 0, placeholder = \"Enter Probe Number\", disabled = False)\n",
    "display(VBox([pb_html, pb]))\n",
    "\n",
    "##Name the shank to be analyzed \n",
    "sn_html = ipywidgets.HTML(value = \"<b>Enter the Shank Number for which you want to plot the Average Evoked LFP for Time Windows</b>\")\n",
    "sn = ipywidgets.IntText(value = 0, placeholder = \"Enter Shank Number\", disabled = False)\n",
    "display(VBox([sn_html, sn]))\n",
    "\n",
    "\n",
    "##Name the Trode to be analyzed \n",
    "tr_html = ipywidgets.HTML(value = \"<b>Enter the Electrode Number for which you want to plot the Average Evoked LFP for Time Windows</b>\")\n",
    "tr = ipywidgets.IntText(value = 0, placeholder = \"Enter Electode Number\", disabled = False)\n",
    "display(VBox([tr_html, tr]))"
   ]
  },
  {
   "cell_type": "markdown",
   "metadata": {},
   "source": [
    "## 3) Analysis \n",
    "\n",
    "Please run the following block of code to perform the time window analysis based on the input that you provided above. "
   ]
  },
  {
   "cell_type": "code",
   "execution_count": 3,
   "metadata": {},
   "outputs": [
    {
     "name": "stdout",
     "output_type": "stream",
     "text": [
      "FUS_Muscimol_Run1_171212_170904\n",
      "Time: 0\n",
      "Time: 1\n",
      "Time: 2\n",
      "Time: 3\n",
      "Time: 4\n",
      "Time: 5\n",
      "Time: 0\n",
      "Time: 1\n",
      "Time: 2\n",
      "Time: 3\n",
      "Time: 4\n",
      "Time: 5\n",
      "Time: 0\n",
      "plotting windows figures and saving\n",
      "Time: 1\n",
      "plotting windows figures and saving\n",
      "Time: 2\n",
      "plotting windows figures and saving\n",
      "Time: 3\n",
      "plotting windows figures and saving\n",
      "Time: 4\n",
      "plotting windows figures and saving\n",
      "Time: 5\n",
      "plotting windows figures and saving\n",
      "FUS_Muscimol_Run1_171212_175114\n",
      "Time: 0\n",
      "Time: 1\n",
      "Time: 2\n",
      "Time: 3\n",
      "Time: 4\n",
      "Time: 5\n",
      "Time: 0\n",
      "Time: 1\n",
      "Time: 2\n",
      "Time: 3\n",
      "Time: 4\n",
      "Time: 5\n",
      "Time: 0\n",
      "plotting windows figures and saving\n",
      "Time: 1\n",
      "plotting windows figures and saving\n",
      "Time: 2\n",
      "plotting windows figures and saving\n",
      "Time: 3\n",
      "plotting windows figures and saving\n",
      "Time: 4\n",
      "plotting windows figures and saving\n",
      "Time: 5\n",
      "plotting windows figures and saving\n",
      "FUS_Muscimol_Run1_171212_183442\n",
      "Time: 0\n",
      "Time: 1\n",
      "Time: 2\n",
      "Time: 0\n",
      "Time: 1\n",
      "Time: 2\n",
      "Time: 0\n",
      "plotting windows figures and saving\n",
      "Time: 1\n",
      "plotting windows figures and saving\n",
      "Time: 2\n",
      "plotting windows figures and saving\n",
      "FUS_Muscimol_Run1_171212_160706\n",
      "Time: 0\n",
      "Time: 1\n",
      "Time: 2\n",
      "Time: 3\n",
      "Time: 4\n",
      "Time: 5\n",
      "Time: 6\n",
      "Time: 7\n",
      "Time: 0\n",
      "Time: 1\n",
      "Time: 2\n",
      "Time: 3\n",
      "Time: 4\n",
      "Time: 5\n",
      "Time: 6\n",
      "Time: 7\n",
      "Time: 0\n",
      "plotting windows figures and saving\n",
      "Time: 1\n",
      "plotting windows figures and saving\n",
      "Time: 2\n",
      "plotting windows figures and saving\n",
      "Time: 3\n",
      "plotting windows figures and saving\n",
      "Time: 4\n",
      "plotting windows figures and saving\n",
      "Time: 5\n",
      "plotting windows figures and saving\n",
      "Time: 6\n",
      "plotting windows figures and saving\n",
      "Time: 7\n",
      "plotting windows figures and saving\n"
     ]
    }
   ],
   "source": [
    "if aallf.value == True:\n",
    "    dirs=os.listdir(mp.value+'/')\n",
    "    for folder in (folder for folder in dirs if ((folder != 'log.txt') and (folder != 'notes.docx') and (folder != 'other') and (folder != '.DS_Store') and (folder != 'analyzed') and (folder != 'analysis_files'))):\n",
    "        print(folder)\n",
    "        analyze_time_windows(mp.value,tw.value, folder)\n",
    "        avg_eLFP_tw(mp.value, tw.value, folder, pb.value, sn.value, tr.value)\n",
    "else:\n",
    "    analyze_time_windows(mp.value, tw.value, fn.value)\n",
    "    avg_eLFP_tw(mp.value, tw.value, folder, pb.value, sn.value, tr.value)"
   ]
  },
  {
   "cell_type": "markdown",
   "metadata": {},
   "source": [
    "## 4) Combining the graphs\n",
    "\n",
    "If you would like to combine graphs for multiple recording sessions, then please run this part. Be sure to move all the recording folders whose data you DO NOT wish to combine into the folder \"other\" BEFORE you run this part "
   ]
  },
  {
   "cell_type": "code",
   "execution_count": null,
   "metadata": {},
   "outputs": [],
   "source": [
    "p = pickle.load(open(mp.value + '/' + fn.value + '/paramsDict.p', 'rb')) #Loading parameter dictionary\n",
    "len_time_window = tw.value * 60 * p['sample_rate'] #Converting the time window length from minutes to number of samples\n",
    "analyzed_path_for_folder = mp.value + '/analyzed/' + fn.value\n",
    "\n",
    "for probe in range(p['probes']):\n",
    "    for shank in range(p['shanks']):\n",
    "        analyzed_path_for_shank = analyzed_path_for_folder + '/probe_{:g}_group_{:g}/'.format(probe,shank)\n",
    "        \n",
    "        #Loading the evoked LFP data from the evoked LFP pickle saved by the evoked_LFP_analysis.py script\n",
    "        data_location = mp.value + '/' + fn.value + ('/probe_{:g}_group_{:g}'.format(probe,shank)) + ('/probe_{:g}_group_{:g}_evoked.pickle'.format(probe,shank))\n",
    "        evoked_data = pickle.load(open(data_location, 'rb'))\n",
    "        evoked = evoked_data['evoked']\n",
    "        stim_timestamps = evoked_data['stim_timestamps']\n",
    "        \n",
    "        num_window = int(np.max(stim_timestamps) / len_time_window) #Calculating number of time windows in data\n",
    "        windows = np.arange(0,num_window,1)\n",
    "        \n",
    "        evoked_window_avgs = np.zeros((num_window, len(evoked[0]), len(evoked[0][0]))) #Averages of the evoked LFPs over time window\n",
    "        evoked_window_err = np.zeros((num_window, len(evoked[0]), len(evoked[0][0]))) #Standard errors of the evoked LFPs over time window\n",
    "        evoked_window_amps = np.zeros((p['probes'], p['shanks'], p['nr_of_electrodes_per_shank'], num_window)) #Amplitude of the evoked LFPs over time window\n",
    "        evoked_window_peak_errs = np.zeros((p['probes'], p['shanks'], p['nr_of_electrodes_per_shank'], num_window)) #Error of the amplitude of the evoked LFPs over time window\n",
    "        \n",
    "        for window in range(num_window):\n",
    "            print(\"Time: {:g}\".format(window))\n",
    "            evoked_window = evoked[np.all([stim_timestamps > window * len_time_window, stim_timestamps < (window + 1) * len_time_window], axis = 0)] #Finding all the evoked data for which the time stamp falls in the window of interest\n",
    "            evoked_window_avgs[window] = np.mean(evoked_window, 0)\n",
    "            evoked_window_std = np.std(evoked_window, 0) #Standard deviation of the data in the time window\n",
    "            evoked_window_err[window] = evoked_window_std / math.sqrt(len(evoked_window)) #Standard error of the evoked LFP data in the time window\n",
    "       \n",
    "            for trode in range(p['nr_of_electrodes_per_shank']):\n",
    "                evoked_window_amps[probe][shank][trode][window] = np.max(evoked_window_avgs[window][trode]) - np.min(evoked_window_avgs[window][trode]) #Amplitude of the average evoked LFP                 \n",
    "                min_error = evoked_window_err[window][probe][np.where(evoked_window_avgs[window][trode] == np.min(evoked_window_avgs[window][trode]))] #Standard error at the min value\n",
    "                max_error = evoked_window_err[window][probe][np.where(evoked_window_avgs[window][trode] == np.max(evoked_window_avgs[window][trode]))] #Standard error at the max value\n",
    "                if len(min_error) == 1:   \n",
    "                    evoked_window_peak_errs[probe][shank][trode][window] = math.sqrt(min_error ** 2 + max_error ** 2)\n",
    "        \n",
    "        for trode in range(p['nr_of_electrodes_per_shank']):\n",
    "            figure()\n",
    "            plot(windows, evoked_window_amps[probe][shank][trode], 'k-')\n",
    "            xlabel('Time (min)')\n",
    "            ylabel('Peak voltage (uV)')\n",
    "            errorbar(windows, evoked_window_amps[probe][shank][trode], yerr = evoked_window_peak_errs[probe][shank][trode])\n",
    "            savefig(analyzed_path_for_shank + '/electrode' + str(trode) + '_time_windows.svg', format = 'svg')\n",
    "            close()\n",
    "                \n",
    "        #Save the window LFP analysis in a pickle file\n",
    "        save_file = analyzed_path_for_folder + '/probe_{:g}_group_{:g}/probe_{:g}_group_{:g}_window_LFP.pickle'.format(probe,shank,probe,shank)\n",
    "        pickle.dump({'evoked_window_avgs':evoked_window_avgs, 'evoked_window_err':evoked_window_err}, open(save_file, 'wb'), protocol = -1)\n",
    "        \n"
   ]
  },
  {
   "cell_type": "markdown",
   "metadata": {},
   "source": [
    "## Done! \n",
    "\n",
    "Notebook written by Baran Yasar in 04/2017. Please contact him in person or e-mail at yasar@biomed.ee.ethz.ch in case of any questions. "
   ]
  }
 ],
 "metadata": {
  "kernelspec": {
   "display_name": "Python 3",
   "language": "python",
   "name": "python3"
  },
  "language_info": {
   "codemirror_mode": {
    "name": "ipython",
    "version": 3
   },
   "file_extension": ".py",
   "mimetype": "text/x-python",
   "name": "python",
   "nbconvert_exporter": "python",
   "pygments_lexer": "ipython3",
   "version": "3.6.3"
  }
 },
 "nbformat": 4,
 "nbformat_minor": 2
}
